{
 "cells": [
  {
   "cell_type": "code",
   "execution_count": null,
   "id": "daeeb785",
   "metadata": {},
   "outputs": [],
   "source": []
  },
  {
   "cell_type": "markdown",
   "id": "1f0ad09d",
   "metadata": {},
   "source": [
    "# Objective\n",
    "\n",
    "### The objective of this project is to build a classification model that can forecast customer status and use grid search and random search to fine tune the model."
   ]
  },
  {
   "cell_type": "code",
   "execution_count": null,
   "id": "cfc5818b",
   "metadata": {},
   "outputs": [],
   "source": []
  },
  {
   "cell_type": "markdown",
   "id": "18687510",
   "metadata": {},
   "source": [
    "# Data Description\n",
    "\n",
    "### The Telecom Customer Chrun dataset, which contains information about customer demographics, location, services, and current status. It is churn data for a hypothetical telecommunications company that offers phone and internet services to 7048 customers in California. "
   ]
  },
  {
   "cell_type": "code",
   "execution_count": null,
   "id": "e9653e58",
   "metadata": {},
   "outputs": [],
   "source": []
  },
  {
   "cell_type": "markdown",
   "id": "e334f503",
   "metadata": {},
   "source": [
    "# Importing The Libraries"
   ]
  },
  {
   "cell_type": "code",
   "execution_count": 1,
   "id": "2e2395b6",
   "metadata": {},
   "outputs": [],
   "source": [
    "import numpy as np\n",
    "import pandas as pd\n",
    "import matplotlib.pyplot as plt\n",
    "import seaborn as sns\n",
    "plt.style.use('ggplot')"
   ]
  },
  {
   "cell_type": "code",
   "execution_count": null,
   "id": "a7347d2c",
   "metadata": {},
   "outputs": [],
   "source": []
  },
  {
   "cell_type": "markdown",
   "id": "61e49918",
   "metadata": {},
   "source": [
    "# Importing the Dataset"
   ]
  },
  {
   "cell_type": "code",
   "execution_count": 2,
   "id": "fdb973d6",
   "metadata": {},
   "outputs": [],
   "source": [
    "# Let's import the dataset for the project\n",
    "\n",
    "Customer_data = pd.read_csv('C:\\\\Users\\\\LENOVO USER\\\\Downloads\\\\telecom_customer_churn.csv')"
   ]
  },
  {
   "cell_type": "code",
   "execution_count": null,
   "id": "6d15b011",
   "metadata": {},
   "outputs": [],
   "source": []
  },
  {
   "cell_type": "markdown",
   "id": "c5132e14",
   "metadata": {},
   "source": [
    "# Check Top Five Rows of the Dataset"
   ]
  },
  {
   "cell_type": "code",
   "execution_count": 3,
   "id": "a871bf05",
   "metadata": {},
   "outputs": [
    {
     "data": {
      "text/html": [
       "<div>\n",
       "<style scoped>\n",
       "    .dataframe tbody tr th:only-of-type {\n",
       "        vertical-align: middle;\n",
       "    }\n",
       "\n",
       "    .dataframe tbody tr th {\n",
       "        vertical-align: top;\n",
       "    }\n",
       "\n",
       "    .dataframe thead th {\n",
       "        text-align: right;\n",
       "    }\n",
       "</style>\n",
       "<table border=\"1\" class=\"dataframe\">\n",
       "  <thead>\n",
       "    <tr style=\"text-align: right;\">\n",
       "      <th></th>\n",
       "      <th>Customer ID</th>\n",
       "      <th>Gender</th>\n",
       "      <th>Age</th>\n",
       "      <th>Married</th>\n",
       "      <th>Number of Dependents</th>\n",
       "      <th>City</th>\n",
       "      <th>Zip Code</th>\n",
       "      <th>Latitude</th>\n",
       "      <th>Longitude</th>\n",
       "      <th>Number of Referrals</th>\n",
       "      <th>Tenure in Months</th>\n",
       "      <th>Offer</th>\n",
       "      <th>Phone Service</th>\n",
       "      <th>Avg Monthly Long Distance Charges</th>\n",
       "      <th>Multiple Lines</th>\n",
       "      <th>Internet Service</th>\n",
       "      <th>Internet Type</th>\n",
       "      <th>Avg Monthly GB Download</th>\n",
       "      <th>Online Security</th>\n",
       "      <th>Online Backup</th>\n",
       "      <th>Device Protection Plan</th>\n",
       "      <th>Premium Tech Support</th>\n",
       "      <th>Streaming TV</th>\n",
       "      <th>Streaming Movies</th>\n",
       "      <th>Streaming Music</th>\n",
       "      <th>Unlimited Data</th>\n",
       "      <th>Contract</th>\n",
       "      <th>Paperless Billing</th>\n",
       "      <th>Payment Method</th>\n",
       "      <th>Monthly Charge</th>\n",
       "      <th>Total Charges</th>\n",
       "      <th>Total Refunds</th>\n",
       "      <th>Total Extra Data Charges</th>\n",
       "      <th>Total Long Distance Charges</th>\n",
       "      <th>Total Revenue</th>\n",
       "      <th>Customer Status</th>\n",
       "      <th>Churn Category</th>\n",
       "      <th>Churn Reason</th>\n",
       "    </tr>\n",
       "  </thead>\n",
       "  <tbody>\n",
       "    <tr>\n",
       "      <th>0</th>\n",
       "      <td>0002-ORFBO</td>\n",
       "      <td>Female</td>\n",
       "      <td>37</td>\n",
       "      <td>Yes</td>\n",
       "      <td>0</td>\n",
       "      <td>Frazier Park</td>\n",
       "      <td>93225</td>\n",
       "      <td>34.827662</td>\n",
       "      <td>-118.999073</td>\n",
       "      <td>2</td>\n",
       "      <td>9</td>\n",
       "      <td>None</td>\n",
       "      <td>Yes</td>\n",
       "      <td>42.39</td>\n",
       "      <td>No</td>\n",
       "      <td>Yes</td>\n",
       "      <td>Cable</td>\n",
       "      <td>16.0</td>\n",
       "      <td>No</td>\n",
       "      <td>Yes</td>\n",
       "      <td>No</td>\n",
       "      <td>Yes</td>\n",
       "      <td>Yes</td>\n",
       "      <td>No</td>\n",
       "      <td>No</td>\n",
       "      <td>Yes</td>\n",
       "      <td>One Year</td>\n",
       "      <td>Yes</td>\n",
       "      <td>Credit Card</td>\n",
       "      <td>65.6</td>\n",
       "      <td>593.30</td>\n",
       "      <td>0.00</td>\n",
       "      <td>0</td>\n",
       "      <td>381.51</td>\n",
       "      <td>974.81</td>\n",
       "      <td>Stayed</td>\n",
       "      <td>NaN</td>\n",
       "      <td>NaN</td>\n",
       "    </tr>\n",
       "    <tr>\n",
       "      <th>1</th>\n",
       "      <td>0003-MKNFE</td>\n",
       "      <td>Male</td>\n",
       "      <td>46</td>\n",
       "      <td>No</td>\n",
       "      <td>0</td>\n",
       "      <td>Glendale</td>\n",
       "      <td>91206</td>\n",
       "      <td>34.162515</td>\n",
       "      <td>-118.203869</td>\n",
       "      <td>0</td>\n",
       "      <td>9</td>\n",
       "      <td>None</td>\n",
       "      <td>Yes</td>\n",
       "      <td>10.69</td>\n",
       "      <td>Yes</td>\n",
       "      <td>Yes</td>\n",
       "      <td>Cable</td>\n",
       "      <td>10.0</td>\n",
       "      <td>No</td>\n",
       "      <td>No</td>\n",
       "      <td>No</td>\n",
       "      <td>No</td>\n",
       "      <td>No</td>\n",
       "      <td>Yes</td>\n",
       "      <td>Yes</td>\n",
       "      <td>No</td>\n",
       "      <td>Month-to-Month</td>\n",
       "      <td>No</td>\n",
       "      <td>Credit Card</td>\n",
       "      <td>-4.0</td>\n",
       "      <td>542.40</td>\n",
       "      <td>38.33</td>\n",
       "      <td>10</td>\n",
       "      <td>96.21</td>\n",
       "      <td>610.28</td>\n",
       "      <td>Stayed</td>\n",
       "      <td>NaN</td>\n",
       "      <td>NaN</td>\n",
       "    </tr>\n",
       "    <tr>\n",
       "      <th>2</th>\n",
       "      <td>0004-TLHLJ</td>\n",
       "      <td>Male</td>\n",
       "      <td>50</td>\n",
       "      <td>No</td>\n",
       "      <td>0</td>\n",
       "      <td>Costa Mesa</td>\n",
       "      <td>92627</td>\n",
       "      <td>33.645672</td>\n",
       "      <td>-117.922613</td>\n",
       "      <td>0</td>\n",
       "      <td>4</td>\n",
       "      <td>Offer E</td>\n",
       "      <td>Yes</td>\n",
       "      <td>33.65</td>\n",
       "      <td>No</td>\n",
       "      <td>Yes</td>\n",
       "      <td>Fiber Optic</td>\n",
       "      <td>30.0</td>\n",
       "      <td>No</td>\n",
       "      <td>No</td>\n",
       "      <td>Yes</td>\n",
       "      <td>No</td>\n",
       "      <td>No</td>\n",
       "      <td>No</td>\n",
       "      <td>No</td>\n",
       "      <td>Yes</td>\n",
       "      <td>Month-to-Month</td>\n",
       "      <td>Yes</td>\n",
       "      <td>Bank Withdrawal</td>\n",
       "      <td>73.9</td>\n",
       "      <td>280.85</td>\n",
       "      <td>0.00</td>\n",
       "      <td>0</td>\n",
       "      <td>134.60</td>\n",
       "      <td>415.45</td>\n",
       "      <td>Churned</td>\n",
       "      <td>Competitor</td>\n",
       "      <td>Competitor had better devices</td>\n",
       "    </tr>\n",
       "    <tr>\n",
       "      <th>3</th>\n",
       "      <td>0011-IGKFF</td>\n",
       "      <td>Male</td>\n",
       "      <td>78</td>\n",
       "      <td>Yes</td>\n",
       "      <td>0</td>\n",
       "      <td>Martinez</td>\n",
       "      <td>94553</td>\n",
       "      <td>38.014457</td>\n",
       "      <td>-122.115432</td>\n",
       "      <td>1</td>\n",
       "      <td>13</td>\n",
       "      <td>Offer D</td>\n",
       "      <td>Yes</td>\n",
       "      <td>27.82</td>\n",
       "      <td>No</td>\n",
       "      <td>Yes</td>\n",
       "      <td>Fiber Optic</td>\n",
       "      <td>4.0</td>\n",
       "      <td>No</td>\n",
       "      <td>Yes</td>\n",
       "      <td>Yes</td>\n",
       "      <td>No</td>\n",
       "      <td>Yes</td>\n",
       "      <td>Yes</td>\n",
       "      <td>No</td>\n",
       "      <td>Yes</td>\n",
       "      <td>Month-to-Month</td>\n",
       "      <td>Yes</td>\n",
       "      <td>Bank Withdrawal</td>\n",
       "      <td>98.0</td>\n",
       "      <td>1237.85</td>\n",
       "      <td>0.00</td>\n",
       "      <td>0</td>\n",
       "      <td>361.66</td>\n",
       "      <td>1599.51</td>\n",
       "      <td>Churned</td>\n",
       "      <td>Dissatisfaction</td>\n",
       "      <td>Product dissatisfaction</td>\n",
       "    </tr>\n",
       "    <tr>\n",
       "      <th>4</th>\n",
       "      <td>0013-EXCHZ</td>\n",
       "      <td>Female</td>\n",
       "      <td>75</td>\n",
       "      <td>Yes</td>\n",
       "      <td>0</td>\n",
       "      <td>Camarillo</td>\n",
       "      <td>93010</td>\n",
       "      <td>34.227846</td>\n",
       "      <td>-119.079903</td>\n",
       "      <td>3</td>\n",
       "      <td>3</td>\n",
       "      <td>None</td>\n",
       "      <td>Yes</td>\n",
       "      <td>7.38</td>\n",
       "      <td>No</td>\n",
       "      <td>Yes</td>\n",
       "      <td>Fiber Optic</td>\n",
       "      <td>11.0</td>\n",
       "      <td>No</td>\n",
       "      <td>No</td>\n",
       "      <td>No</td>\n",
       "      <td>Yes</td>\n",
       "      <td>Yes</td>\n",
       "      <td>No</td>\n",
       "      <td>No</td>\n",
       "      <td>Yes</td>\n",
       "      <td>Month-to-Month</td>\n",
       "      <td>Yes</td>\n",
       "      <td>Credit Card</td>\n",
       "      <td>83.9</td>\n",
       "      <td>267.40</td>\n",
       "      <td>0.00</td>\n",
       "      <td>0</td>\n",
       "      <td>22.14</td>\n",
       "      <td>289.54</td>\n",
       "      <td>Churned</td>\n",
       "      <td>Dissatisfaction</td>\n",
       "      <td>Network reliability</td>\n",
       "    </tr>\n",
       "  </tbody>\n",
       "</table>\n",
       "</div>"
      ],
      "text/plain": [
       "  Customer ID  Gender  Age Married  Number of Dependents          City  \\\n",
       "0  0002-ORFBO  Female   37     Yes                     0  Frazier Park   \n",
       "1  0003-MKNFE    Male   46      No                     0      Glendale   \n",
       "2  0004-TLHLJ    Male   50      No                     0    Costa Mesa   \n",
       "3  0011-IGKFF    Male   78     Yes                     0      Martinez   \n",
       "4  0013-EXCHZ  Female   75     Yes                     0     Camarillo   \n",
       "\n",
       "   Zip Code   Latitude   Longitude  Number of Referrals  Tenure in Months  \\\n",
       "0     93225  34.827662 -118.999073                    2                 9   \n",
       "1     91206  34.162515 -118.203869                    0                 9   \n",
       "2     92627  33.645672 -117.922613                    0                 4   \n",
       "3     94553  38.014457 -122.115432                    1                13   \n",
       "4     93010  34.227846 -119.079903                    3                 3   \n",
       "\n",
       "     Offer Phone Service  Avg Monthly Long Distance Charges Multiple Lines  \\\n",
       "0     None           Yes                              42.39             No   \n",
       "1     None           Yes                              10.69            Yes   \n",
       "2  Offer E           Yes                              33.65             No   \n",
       "3  Offer D           Yes                              27.82             No   \n",
       "4     None           Yes                               7.38             No   \n",
       "\n",
       "  Internet Service Internet Type  Avg Monthly GB Download Online Security  \\\n",
       "0              Yes         Cable                     16.0              No   \n",
       "1              Yes         Cable                     10.0              No   \n",
       "2              Yes   Fiber Optic                     30.0              No   \n",
       "3              Yes   Fiber Optic                      4.0              No   \n",
       "4              Yes   Fiber Optic                     11.0              No   \n",
       "\n",
       "  Online Backup Device Protection Plan Premium Tech Support Streaming TV  \\\n",
       "0           Yes                     No                  Yes          Yes   \n",
       "1            No                     No                   No           No   \n",
       "2            No                    Yes                   No           No   \n",
       "3           Yes                    Yes                   No          Yes   \n",
       "4            No                     No                  Yes          Yes   \n",
       "\n",
       "  Streaming Movies Streaming Music Unlimited Data        Contract  \\\n",
       "0               No              No            Yes        One Year   \n",
       "1              Yes             Yes             No  Month-to-Month   \n",
       "2               No              No            Yes  Month-to-Month   \n",
       "3              Yes              No            Yes  Month-to-Month   \n",
       "4               No              No            Yes  Month-to-Month   \n",
       "\n",
       "  Paperless Billing   Payment Method  Monthly Charge  Total Charges  \\\n",
       "0               Yes      Credit Card            65.6         593.30   \n",
       "1                No      Credit Card            -4.0         542.40   \n",
       "2               Yes  Bank Withdrawal            73.9         280.85   \n",
       "3               Yes  Bank Withdrawal            98.0        1237.85   \n",
       "4               Yes      Credit Card            83.9         267.40   \n",
       "\n",
       "   Total Refunds  Total Extra Data Charges  Total Long Distance Charges  \\\n",
       "0           0.00                         0                       381.51   \n",
       "1          38.33                        10                        96.21   \n",
       "2           0.00                         0                       134.60   \n",
       "3           0.00                         0                       361.66   \n",
       "4           0.00                         0                        22.14   \n",
       "\n",
       "   Total Revenue Customer Status   Churn Category  \\\n",
       "0         974.81          Stayed              NaN   \n",
       "1         610.28          Stayed              NaN   \n",
       "2         415.45         Churned       Competitor   \n",
       "3        1599.51         Churned  Dissatisfaction   \n",
       "4         289.54         Churned  Dissatisfaction   \n",
       "\n",
       "                    Churn Reason  \n",
       "0                            NaN  \n",
       "1                            NaN  \n",
       "2  Competitor had better devices  \n",
       "3        Product dissatisfaction  \n",
       "4            Network reliability  "
      ]
     },
     "execution_count": 3,
     "metadata": {},
     "output_type": "execute_result"
    }
   ],
   "source": [
    "pd.set_option(\"Display.max_columns\", None)\n",
    "\n",
    "Customer_data.head()"
   ]
  },
  {
   "cell_type": "code",
   "execution_count": null,
   "id": "bed36c53",
   "metadata": {},
   "outputs": [],
   "source": []
  },
  {
   "cell_type": "markdown",
   "id": "d538cdab",
   "metadata": {},
   "source": [
    "# Check Last Five Rows of The Dataset"
   ]
  },
  {
   "cell_type": "code",
   "execution_count": 4,
   "id": "0a966679",
   "metadata": {},
   "outputs": [
    {
     "data": {
      "text/html": [
       "<div>\n",
       "<style scoped>\n",
       "    .dataframe tbody tr th:only-of-type {\n",
       "        vertical-align: middle;\n",
       "    }\n",
       "\n",
       "    .dataframe tbody tr th {\n",
       "        vertical-align: top;\n",
       "    }\n",
       "\n",
       "    .dataframe thead th {\n",
       "        text-align: right;\n",
       "    }\n",
       "</style>\n",
       "<table border=\"1\" class=\"dataframe\">\n",
       "  <thead>\n",
       "    <tr style=\"text-align: right;\">\n",
       "      <th></th>\n",
       "      <th>Customer ID</th>\n",
       "      <th>Gender</th>\n",
       "      <th>Age</th>\n",
       "      <th>Married</th>\n",
       "      <th>Number of Dependents</th>\n",
       "      <th>City</th>\n",
       "      <th>Zip Code</th>\n",
       "      <th>Latitude</th>\n",
       "      <th>Longitude</th>\n",
       "      <th>Number of Referrals</th>\n",
       "      <th>Tenure in Months</th>\n",
       "      <th>Offer</th>\n",
       "      <th>Phone Service</th>\n",
       "      <th>Avg Monthly Long Distance Charges</th>\n",
       "      <th>Multiple Lines</th>\n",
       "      <th>Internet Service</th>\n",
       "      <th>Internet Type</th>\n",
       "      <th>Avg Monthly GB Download</th>\n",
       "      <th>Online Security</th>\n",
       "      <th>Online Backup</th>\n",
       "      <th>Device Protection Plan</th>\n",
       "      <th>Premium Tech Support</th>\n",
       "      <th>Streaming TV</th>\n",
       "      <th>Streaming Movies</th>\n",
       "      <th>Streaming Music</th>\n",
       "      <th>Unlimited Data</th>\n",
       "      <th>Contract</th>\n",
       "      <th>Paperless Billing</th>\n",
       "      <th>Payment Method</th>\n",
       "      <th>Monthly Charge</th>\n",
       "      <th>Total Charges</th>\n",
       "      <th>Total Refunds</th>\n",
       "      <th>Total Extra Data Charges</th>\n",
       "      <th>Total Long Distance Charges</th>\n",
       "      <th>Total Revenue</th>\n",
       "      <th>Customer Status</th>\n",
       "      <th>Churn Category</th>\n",
       "      <th>Churn Reason</th>\n",
       "    </tr>\n",
       "  </thead>\n",
       "  <tbody>\n",
       "    <tr>\n",
       "      <th>7038</th>\n",
       "      <td>9987-LUTYD</td>\n",
       "      <td>Female</td>\n",
       "      <td>20</td>\n",
       "      <td>No</td>\n",
       "      <td>0</td>\n",
       "      <td>La Mesa</td>\n",
       "      <td>91941</td>\n",
       "      <td>32.759327</td>\n",
       "      <td>-116.997260</td>\n",
       "      <td>0</td>\n",
       "      <td>13</td>\n",
       "      <td>Offer D</td>\n",
       "      <td>Yes</td>\n",
       "      <td>46.68</td>\n",
       "      <td>No</td>\n",
       "      <td>Yes</td>\n",
       "      <td>DSL</td>\n",
       "      <td>59.0</td>\n",
       "      <td>Yes</td>\n",
       "      <td>No</td>\n",
       "      <td>No</td>\n",
       "      <td>Yes</td>\n",
       "      <td>No</td>\n",
       "      <td>No</td>\n",
       "      <td>Yes</td>\n",
       "      <td>Yes</td>\n",
       "      <td>One Year</td>\n",
       "      <td>No</td>\n",
       "      <td>Credit Card</td>\n",
       "      <td>55.15</td>\n",
       "      <td>742.90</td>\n",
       "      <td>0.0</td>\n",
       "      <td>0</td>\n",
       "      <td>606.84</td>\n",
       "      <td>1349.74</td>\n",
       "      <td>Stayed</td>\n",
       "      <td>NaN</td>\n",
       "      <td>NaN</td>\n",
       "    </tr>\n",
       "    <tr>\n",
       "      <th>7039</th>\n",
       "      <td>9992-RRAMN</td>\n",
       "      <td>Male</td>\n",
       "      <td>40</td>\n",
       "      <td>Yes</td>\n",
       "      <td>0</td>\n",
       "      <td>Riverbank</td>\n",
       "      <td>95367</td>\n",
       "      <td>37.734971</td>\n",
       "      <td>-120.954271</td>\n",
       "      <td>1</td>\n",
       "      <td>22</td>\n",
       "      <td>Offer D</td>\n",
       "      <td>Yes</td>\n",
       "      <td>16.20</td>\n",
       "      <td>Yes</td>\n",
       "      <td>Yes</td>\n",
       "      <td>Fiber Optic</td>\n",
       "      <td>17.0</td>\n",
       "      <td>No</td>\n",
       "      <td>No</td>\n",
       "      <td>No</td>\n",
       "      <td>No</td>\n",
       "      <td>No</td>\n",
       "      <td>Yes</td>\n",
       "      <td>Yes</td>\n",
       "      <td>Yes</td>\n",
       "      <td>Month-to-Month</td>\n",
       "      <td>Yes</td>\n",
       "      <td>Bank Withdrawal</td>\n",
       "      <td>85.10</td>\n",
       "      <td>1873.70</td>\n",
       "      <td>0.0</td>\n",
       "      <td>0</td>\n",
       "      <td>356.40</td>\n",
       "      <td>2230.10</td>\n",
       "      <td>Churned</td>\n",
       "      <td>Dissatisfaction</td>\n",
       "      <td>Product dissatisfaction</td>\n",
       "    </tr>\n",
       "    <tr>\n",
       "      <th>7040</th>\n",
       "      <td>9992-UJOEL</td>\n",
       "      <td>Male</td>\n",
       "      <td>22</td>\n",
       "      <td>No</td>\n",
       "      <td>0</td>\n",
       "      <td>Elk</td>\n",
       "      <td>95432</td>\n",
       "      <td>39.108252</td>\n",
       "      <td>-123.645121</td>\n",
       "      <td>0</td>\n",
       "      <td>2</td>\n",
       "      <td>Offer E</td>\n",
       "      <td>Yes</td>\n",
       "      <td>18.62</td>\n",
       "      <td>No</td>\n",
       "      <td>Yes</td>\n",
       "      <td>DSL</td>\n",
       "      <td>51.0</td>\n",
       "      <td>No</td>\n",
       "      <td>Yes</td>\n",
       "      <td>No</td>\n",
       "      <td>No</td>\n",
       "      <td>No</td>\n",
       "      <td>No</td>\n",
       "      <td>No</td>\n",
       "      <td>Yes</td>\n",
       "      <td>Month-to-Month</td>\n",
       "      <td>Yes</td>\n",
       "      <td>Credit Card</td>\n",
       "      <td>50.30</td>\n",
       "      <td>92.75</td>\n",
       "      <td>0.0</td>\n",
       "      <td>0</td>\n",
       "      <td>37.24</td>\n",
       "      <td>129.99</td>\n",
       "      <td>Joined</td>\n",
       "      <td>NaN</td>\n",
       "      <td>NaN</td>\n",
       "    </tr>\n",
       "    <tr>\n",
       "      <th>7041</th>\n",
       "      <td>9993-LHIEB</td>\n",
       "      <td>Male</td>\n",
       "      <td>21</td>\n",
       "      <td>Yes</td>\n",
       "      <td>0</td>\n",
       "      <td>Solana Beach</td>\n",
       "      <td>92075</td>\n",
       "      <td>33.001813</td>\n",
       "      <td>-117.263628</td>\n",
       "      <td>5</td>\n",
       "      <td>67</td>\n",
       "      <td>Offer A</td>\n",
       "      <td>Yes</td>\n",
       "      <td>2.12</td>\n",
       "      <td>No</td>\n",
       "      <td>Yes</td>\n",
       "      <td>Cable</td>\n",
       "      <td>58.0</td>\n",
       "      <td>Yes</td>\n",
       "      <td>No</td>\n",
       "      <td>Yes</td>\n",
       "      <td>Yes</td>\n",
       "      <td>No</td>\n",
       "      <td>Yes</td>\n",
       "      <td>Yes</td>\n",
       "      <td>Yes</td>\n",
       "      <td>Two Year</td>\n",
       "      <td>No</td>\n",
       "      <td>Credit Card</td>\n",
       "      <td>67.85</td>\n",
       "      <td>4627.65</td>\n",
       "      <td>0.0</td>\n",
       "      <td>0</td>\n",
       "      <td>142.04</td>\n",
       "      <td>4769.69</td>\n",
       "      <td>Stayed</td>\n",
       "      <td>NaN</td>\n",
       "      <td>NaN</td>\n",
       "    </tr>\n",
       "    <tr>\n",
       "      <th>7042</th>\n",
       "      <td>9995-HOTOH</td>\n",
       "      <td>Male</td>\n",
       "      <td>36</td>\n",
       "      <td>Yes</td>\n",
       "      <td>0</td>\n",
       "      <td>Sierra City</td>\n",
       "      <td>96125</td>\n",
       "      <td>39.600599</td>\n",
       "      <td>-120.636358</td>\n",
       "      <td>1</td>\n",
       "      <td>63</td>\n",
       "      <td>None</td>\n",
       "      <td>No</td>\n",
       "      <td>NaN</td>\n",
       "      <td>NaN</td>\n",
       "      <td>Yes</td>\n",
       "      <td>Cable</td>\n",
       "      <td>5.0</td>\n",
       "      <td>Yes</td>\n",
       "      <td>Yes</td>\n",
       "      <td>Yes</td>\n",
       "      <td>No</td>\n",
       "      <td>Yes</td>\n",
       "      <td>Yes</td>\n",
       "      <td>Yes</td>\n",
       "      <td>Yes</td>\n",
       "      <td>Two Year</td>\n",
       "      <td>No</td>\n",
       "      <td>Bank Withdrawal</td>\n",
       "      <td>59.00</td>\n",
       "      <td>3707.60</td>\n",
       "      <td>0.0</td>\n",
       "      <td>0</td>\n",
       "      <td>0.00</td>\n",
       "      <td>3707.60</td>\n",
       "      <td>Stayed</td>\n",
       "      <td>NaN</td>\n",
       "      <td>NaN</td>\n",
       "    </tr>\n",
       "  </tbody>\n",
       "</table>\n",
       "</div>"
      ],
      "text/plain": [
       "     Customer ID  Gender  Age Married  Number of Dependents          City  \\\n",
       "7038  9987-LUTYD  Female   20      No                     0       La Mesa   \n",
       "7039  9992-RRAMN    Male   40     Yes                     0     Riverbank   \n",
       "7040  9992-UJOEL    Male   22      No                     0           Elk   \n",
       "7041  9993-LHIEB    Male   21     Yes                     0  Solana Beach   \n",
       "7042  9995-HOTOH    Male   36     Yes                     0   Sierra City   \n",
       "\n",
       "      Zip Code   Latitude   Longitude  Number of Referrals  Tenure in Months  \\\n",
       "7038     91941  32.759327 -116.997260                    0                13   \n",
       "7039     95367  37.734971 -120.954271                    1                22   \n",
       "7040     95432  39.108252 -123.645121                    0                 2   \n",
       "7041     92075  33.001813 -117.263628                    5                67   \n",
       "7042     96125  39.600599 -120.636358                    1                63   \n",
       "\n",
       "        Offer Phone Service  Avg Monthly Long Distance Charges Multiple Lines  \\\n",
       "7038  Offer D           Yes                              46.68             No   \n",
       "7039  Offer D           Yes                              16.20            Yes   \n",
       "7040  Offer E           Yes                              18.62             No   \n",
       "7041  Offer A           Yes                               2.12             No   \n",
       "7042     None            No                                NaN            NaN   \n",
       "\n",
       "     Internet Service Internet Type  Avg Monthly GB Download Online Security  \\\n",
       "7038              Yes           DSL                     59.0             Yes   \n",
       "7039              Yes   Fiber Optic                     17.0              No   \n",
       "7040              Yes           DSL                     51.0              No   \n",
       "7041              Yes         Cable                     58.0             Yes   \n",
       "7042              Yes         Cable                      5.0             Yes   \n",
       "\n",
       "     Online Backup Device Protection Plan Premium Tech Support Streaming TV  \\\n",
       "7038            No                     No                  Yes           No   \n",
       "7039            No                     No                   No           No   \n",
       "7040           Yes                     No                   No           No   \n",
       "7041            No                    Yes                  Yes           No   \n",
       "7042           Yes                    Yes                   No          Yes   \n",
       "\n",
       "     Streaming Movies Streaming Music Unlimited Data        Contract  \\\n",
       "7038               No             Yes            Yes        One Year   \n",
       "7039              Yes             Yes            Yes  Month-to-Month   \n",
       "7040               No              No            Yes  Month-to-Month   \n",
       "7041              Yes             Yes            Yes        Two Year   \n",
       "7042              Yes             Yes            Yes        Two Year   \n",
       "\n",
       "     Paperless Billing   Payment Method  Monthly Charge  Total Charges  \\\n",
       "7038                No      Credit Card           55.15         742.90   \n",
       "7039               Yes  Bank Withdrawal           85.10        1873.70   \n",
       "7040               Yes      Credit Card           50.30          92.75   \n",
       "7041                No      Credit Card           67.85        4627.65   \n",
       "7042                No  Bank Withdrawal           59.00        3707.60   \n",
       "\n",
       "      Total Refunds  Total Extra Data Charges  Total Long Distance Charges  \\\n",
       "7038            0.0                         0                       606.84   \n",
       "7039            0.0                         0                       356.40   \n",
       "7040            0.0                         0                        37.24   \n",
       "7041            0.0                         0                       142.04   \n",
       "7042            0.0                         0                         0.00   \n",
       "\n",
       "      Total Revenue Customer Status   Churn Category             Churn Reason  \n",
       "7038        1349.74          Stayed              NaN                      NaN  \n",
       "7039        2230.10         Churned  Dissatisfaction  Product dissatisfaction  \n",
       "7040         129.99          Joined              NaN                      NaN  \n",
       "7041        4769.69          Stayed              NaN                      NaN  \n",
       "7042        3707.60          Stayed              NaN                      NaN  "
      ]
     },
     "execution_count": 4,
     "metadata": {},
     "output_type": "execute_result"
    }
   ],
   "source": [
    "Customer_data.tail()"
   ]
  },
  {
   "cell_type": "code",
   "execution_count": null,
   "id": "5f11a58a",
   "metadata": {},
   "outputs": [],
   "source": []
  },
  {
   "cell_type": "markdown",
   "id": "6db5cf43",
   "metadata": {},
   "source": [
    "# Get Information About Our Dataset"
   ]
  },
  {
   "cell_type": "code",
   "execution_count": 5,
   "id": "fe9a651f",
   "metadata": {},
   "outputs": [
    {
     "name": "stdout",
     "output_type": "stream",
     "text": [
      "<class 'pandas.core.frame.DataFrame'>\n",
      "RangeIndex: 7043 entries, 0 to 7042\n",
      "Data columns (total 38 columns):\n",
      " #   Column                             Non-Null Count  Dtype  \n",
      "---  ------                             --------------  -----  \n",
      " 0   Customer ID                        7043 non-null   object \n",
      " 1   Gender                             7043 non-null   object \n",
      " 2   Age                                7043 non-null   int64  \n",
      " 3   Married                            7043 non-null   object \n",
      " 4   Number of Dependents               7043 non-null   int64  \n",
      " 5   City                               7043 non-null   object \n",
      " 6   Zip Code                           7043 non-null   int64  \n",
      " 7   Latitude                           7043 non-null   float64\n",
      " 8   Longitude                          7043 non-null   float64\n",
      " 9   Number of Referrals                7043 non-null   int64  \n",
      " 10  Tenure in Months                   7043 non-null   int64  \n",
      " 11  Offer                              7043 non-null   object \n",
      " 12  Phone Service                      7043 non-null   object \n",
      " 13  Avg Monthly Long Distance Charges  6361 non-null   float64\n",
      " 14  Multiple Lines                     6361 non-null   object \n",
      " 15  Internet Service                   7043 non-null   object \n",
      " 16  Internet Type                      5517 non-null   object \n",
      " 17  Avg Monthly GB Download            5517 non-null   float64\n",
      " 18  Online Security                    5517 non-null   object \n",
      " 19  Online Backup                      5517 non-null   object \n",
      " 20  Device Protection Plan             5517 non-null   object \n",
      " 21  Premium Tech Support               5517 non-null   object \n",
      " 22  Streaming TV                       5517 non-null   object \n",
      " 23  Streaming Movies                   5517 non-null   object \n",
      " 24  Streaming Music                    5517 non-null   object \n",
      " 25  Unlimited Data                     5517 non-null   object \n",
      " 26  Contract                           7043 non-null   object \n",
      " 27  Paperless Billing                  7043 non-null   object \n",
      " 28  Payment Method                     7043 non-null   object \n",
      " 29  Monthly Charge                     7043 non-null   float64\n",
      " 30  Total Charges                      7043 non-null   float64\n",
      " 31  Total Refunds                      7043 non-null   float64\n",
      " 32  Total Extra Data Charges           7043 non-null   int64  \n",
      " 33  Total Long Distance Charges        7043 non-null   float64\n",
      " 34  Total Revenue                      7043 non-null   float64\n",
      " 35  Customer Status                    7043 non-null   object \n",
      " 36  Churn Category                     1869 non-null   object \n",
      " 37  Churn Reason                       1869 non-null   object \n",
      "dtypes: float64(9), int64(6), object(23)\n",
      "memory usage: 2.0+ MB\n"
     ]
    }
   ],
   "source": [
    "Customer_data.info()"
   ]
  },
  {
   "cell_type": "markdown",
   "id": "e53c01d7",
   "metadata": {},
   "source": [
    "### The data types in our dataset shows there are nine float64, six int64, and twenty-three object."
   ]
  },
  {
   "cell_type": "code",
   "execution_count": null,
   "id": "a945bc84",
   "metadata": {},
   "outputs": [],
   "source": []
  },
  {
   "cell_type": "markdown",
   "id": "d12b3788",
   "metadata": {},
   "source": [
    "# Find The Shape of Our Dataset (Number of Rows and Columns)"
   ]
  },
  {
   "cell_type": "code",
   "execution_count": 6,
   "id": "5c9c0e89",
   "metadata": {},
   "outputs": [
    {
     "data": {
      "text/plain": [
       "(7043, 38)"
      ]
     },
     "execution_count": 6,
     "metadata": {},
     "output_type": "execute_result"
    }
   ],
   "source": [
    "# Let's check the shape of our dataset\n",
    "\n",
    "Customer_data.shape"
   ]
  },
  {
   "cell_type": "code",
   "execution_count": 7,
   "id": "7d8f7045",
   "metadata": {},
   "outputs": [
    {
     "name": "stdout",
     "output_type": "stream",
     "text": [
      "Numbers of Rows 7043\n",
      "Numbers of Columns 38\n"
     ]
    }
   ],
   "source": [
    "print('Numbers of Rows', Customer_data.shape[0])\n",
    "print('Numbers of Columns', Customer_data.shape[1])"
   ]
  },
  {
   "cell_type": "markdown",
   "id": "0f176f65",
   "metadata": {},
   "source": [
    "### Our dataset contains 7043 rows and 38 columns."
   ]
  },
  {
   "cell_type": "code",
   "execution_count": null,
   "id": "c65b2aca",
   "metadata": {},
   "outputs": [],
   "source": []
  },
  {
   "cell_type": "markdown",
   "id": "fc986f32",
   "metadata": {},
   "source": [
    "# Check The Null Values in Our Dataset"
   ]
  },
  {
   "cell_type": "code",
   "execution_count": 8,
   "id": "61dfbd0d",
   "metadata": {},
   "outputs": [
    {
     "data": {
      "text/plain": [
       "Customer ID                             0\n",
       "Gender                                  0\n",
       "Age                                     0\n",
       "Married                                 0\n",
       "Number of Dependents                    0\n",
       "City                                    0\n",
       "Zip Code                                0\n",
       "Latitude                                0\n",
       "Longitude                               0\n",
       "Number of Referrals                     0\n",
       "Tenure in Months                        0\n",
       "Offer                                   0\n",
       "Phone Service                           0\n",
       "Avg Monthly Long Distance Charges     682\n",
       "Multiple Lines                        682\n",
       "Internet Service                        0\n",
       "Internet Type                        1526\n",
       "Avg Monthly GB Download              1526\n",
       "Online Security                      1526\n",
       "Online Backup                        1526\n",
       "Device Protection Plan               1526\n",
       "Premium Tech Support                 1526\n",
       "Streaming TV                         1526\n",
       "Streaming Movies                     1526\n",
       "Streaming Music                      1526\n",
       "Unlimited Data                       1526\n",
       "Contract                                0\n",
       "Paperless Billing                       0\n",
       "Payment Method                          0\n",
       "Monthly Charge                          0\n",
       "Total Charges                           0\n",
       "Total Refunds                           0\n",
       "Total Extra Data Charges                0\n",
       "Total Long Distance Charges             0\n",
       "Total Revenue                           0\n",
       "Customer Status                         0\n",
       "Churn Category                       5174\n",
       "Churn Reason                         5174\n",
       "dtype: int64"
      ]
     },
     "execution_count": 8,
     "metadata": {},
     "output_type": "execute_result"
    }
   ],
   "source": [
    "Customer_data.isnull().sum()"
   ]
  },
  {
   "cell_type": "markdown",
   "id": "d72535be",
   "metadata": {},
   "source": [
    "### There are much null values detected in our dataset which will be replaced their mode and mean values."
   ]
  },
  {
   "cell_type": "code",
   "execution_count": null,
   "id": "04dfa378",
   "metadata": {},
   "outputs": [],
   "source": []
  },
  {
   "cell_type": "markdown",
   "id": "e26687f7",
   "metadata": {},
   "source": [
    "# Dropping Features Not Necessary For Our Prediction"
   ]
  },
  {
   "cell_type": "code",
   "execution_count": 9,
   "id": "ed8508ca",
   "metadata": {},
   "outputs": [],
   "source": [
    "Customer_data = Customer_data.drop('Customer ID', axis=1)"
   ]
  },
  {
   "cell_type": "code",
   "execution_count": 10,
   "id": "9bb16c8d",
   "metadata": {},
   "outputs": [],
   "source": [
    "Customer_data = Customer_data.drop('Zip Code', axis=1)"
   ]
  },
  {
   "cell_type": "code",
   "execution_count": 11,
   "id": "d96b1cb9",
   "metadata": {},
   "outputs": [],
   "source": [
    "Customer_data = Customer_data.drop('Latitude', axis=1)"
   ]
  },
  {
   "cell_type": "code",
   "execution_count": 12,
   "id": "dc66d26a",
   "metadata": {},
   "outputs": [],
   "source": [
    "Customer_data = Customer_data.drop('Longitude', axis=1)"
   ]
  },
  {
   "cell_type": "code",
   "execution_count": null,
   "id": "775f079a",
   "metadata": {},
   "outputs": [],
   "source": []
  },
  {
   "cell_type": "code",
   "execution_count": 13,
   "id": "d2786448",
   "metadata": {},
   "outputs": [
    {
     "data": {
      "text/html": [
       "<div>\n",
       "<style scoped>\n",
       "    .dataframe tbody tr th:only-of-type {\n",
       "        vertical-align: middle;\n",
       "    }\n",
       "\n",
       "    .dataframe tbody tr th {\n",
       "        vertical-align: top;\n",
       "    }\n",
       "\n",
       "    .dataframe thead th {\n",
       "        text-align: right;\n",
       "    }\n",
       "</style>\n",
       "<table border=\"1\" class=\"dataframe\">\n",
       "  <thead>\n",
       "    <tr style=\"text-align: right;\">\n",
       "      <th></th>\n",
       "      <th>Gender</th>\n",
       "      <th>Age</th>\n",
       "      <th>Married</th>\n",
       "      <th>Number of Dependents</th>\n",
       "      <th>City</th>\n",
       "      <th>Number of Referrals</th>\n",
       "      <th>Tenure in Months</th>\n",
       "      <th>Offer</th>\n",
       "      <th>Phone Service</th>\n",
       "      <th>Avg Monthly Long Distance Charges</th>\n",
       "      <th>Multiple Lines</th>\n",
       "      <th>Internet Service</th>\n",
       "      <th>Internet Type</th>\n",
       "      <th>Avg Monthly GB Download</th>\n",
       "      <th>Online Security</th>\n",
       "      <th>Online Backup</th>\n",
       "      <th>Device Protection Plan</th>\n",
       "      <th>Premium Tech Support</th>\n",
       "      <th>Streaming TV</th>\n",
       "      <th>Streaming Movies</th>\n",
       "      <th>Streaming Music</th>\n",
       "      <th>Unlimited Data</th>\n",
       "      <th>Contract</th>\n",
       "      <th>Paperless Billing</th>\n",
       "      <th>Payment Method</th>\n",
       "      <th>Monthly Charge</th>\n",
       "      <th>Total Charges</th>\n",
       "      <th>Total Refunds</th>\n",
       "      <th>Total Extra Data Charges</th>\n",
       "      <th>Total Long Distance Charges</th>\n",
       "      <th>Total Revenue</th>\n",
       "      <th>Customer Status</th>\n",
       "      <th>Churn Category</th>\n",
       "      <th>Churn Reason</th>\n",
       "    </tr>\n",
       "  </thead>\n",
       "  <tbody>\n",
       "    <tr>\n",
       "      <th>0</th>\n",
       "      <td>Female</td>\n",
       "      <td>37</td>\n",
       "      <td>Yes</td>\n",
       "      <td>0</td>\n",
       "      <td>Frazier Park</td>\n",
       "      <td>2</td>\n",
       "      <td>9</td>\n",
       "      <td>None</td>\n",
       "      <td>Yes</td>\n",
       "      <td>42.39</td>\n",
       "      <td>No</td>\n",
       "      <td>Yes</td>\n",
       "      <td>Cable</td>\n",
       "      <td>16.0</td>\n",
       "      <td>No</td>\n",
       "      <td>Yes</td>\n",
       "      <td>No</td>\n",
       "      <td>Yes</td>\n",
       "      <td>Yes</td>\n",
       "      <td>No</td>\n",
       "      <td>No</td>\n",
       "      <td>Yes</td>\n",
       "      <td>One Year</td>\n",
       "      <td>Yes</td>\n",
       "      <td>Credit Card</td>\n",
       "      <td>65.6</td>\n",
       "      <td>593.3</td>\n",
       "      <td>0.0</td>\n",
       "      <td>0</td>\n",
       "      <td>381.51</td>\n",
       "      <td>974.81</td>\n",
       "      <td>Stayed</td>\n",
       "      <td>NaN</td>\n",
       "      <td>NaN</td>\n",
       "    </tr>\n",
       "  </tbody>\n",
       "</table>\n",
       "</div>"
      ],
      "text/plain": [
       "   Gender  Age Married  Number of Dependents          City  \\\n",
       "0  Female   37     Yes                     0  Frazier Park   \n",
       "\n",
       "   Number of Referrals  Tenure in Months Offer Phone Service  \\\n",
       "0                    2                 9  None           Yes   \n",
       "\n",
       "   Avg Monthly Long Distance Charges Multiple Lines Internet Service  \\\n",
       "0                              42.39             No              Yes   \n",
       "\n",
       "  Internet Type  Avg Monthly GB Download Online Security Online Backup  \\\n",
       "0         Cable                     16.0              No           Yes   \n",
       "\n",
       "  Device Protection Plan Premium Tech Support Streaming TV Streaming Movies  \\\n",
       "0                     No                  Yes          Yes               No   \n",
       "\n",
       "  Streaming Music Unlimited Data  Contract Paperless Billing Payment Method  \\\n",
       "0              No            Yes  One Year               Yes    Credit Card   \n",
       "\n",
       "   Monthly Charge  Total Charges  Total Refunds  Total Extra Data Charges  \\\n",
       "0            65.6          593.3            0.0                         0   \n",
       "\n",
       "   Total Long Distance Charges  Total Revenue Customer Status Churn Category  \\\n",
       "0                       381.51         974.81          Stayed            NaN   \n",
       "\n",
       "  Churn Reason  \n",
       "0          NaN  "
      ]
     },
     "execution_count": 13,
     "metadata": {},
     "output_type": "execute_result"
    }
   ],
   "source": [
    "# Let's check the features were dropped successfully\n",
    "\n",
    "Customer_data.head(1)"
   ]
  },
  {
   "cell_type": "code",
   "execution_count": null,
   "id": "51026949",
   "metadata": {},
   "outputs": [],
   "source": []
  },
  {
   "cell_type": "markdown",
   "id": "a165a828",
   "metadata": {},
   "source": [
    "# Handling Missing Values\n",
    "\n",
    "### Mode\n",
    "\n",
    "### Median"
   ]
  },
  {
   "cell_type": "code",
   "execution_count": 14,
   "id": "6f2ab31b",
   "metadata": {},
   "outputs": [
    {
     "data": {
      "text/plain": [
       "Gender                                  0\n",
       "Age                                     0\n",
       "Married                                 0\n",
       "Number of Dependents                    0\n",
       "City                                    0\n",
       "Number of Referrals                     0\n",
       "Tenure in Months                        0\n",
       "Offer                                   0\n",
       "Phone Service                           0\n",
       "Avg Monthly Long Distance Charges     682\n",
       "Multiple Lines                        682\n",
       "Internet Service                        0\n",
       "Internet Type                        1526\n",
       "Avg Monthly GB Download              1526\n",
       "Online Security                      1526\n",
       "Online Backup                        1526\n",
       "Device Protection Plan               1526\n",
       "Premium Tech Support                 1526\n",
       "Streaming TV                         1526\n",
       "Streaming Movies                     1526\n",
       "Streaming Music                      1526\n",
       "Unlimited Data                       1526\n",
       "Contract                                0\n",
       "Paperless Billing                       0\n",
       "Payment Method                          0\n",
       "Monthly Charge                          0\n",
       "Total Charges                           0\n",
       "Total Refunds                           0\n",
       "Total Extra Data Charges                0\n",
       "Total Long Distance Charges             0\n",
       "Total Revenue                           0\n",
       "Customer Status                         0\n",
       "Churn Category                       5174\n",
       "Churn Reason                         5174\n",
       "dtype: int64"
      ]
     },
     "execution_count": 14,
     "metadata": {},
     "output_type": "execute_result"
    }
   ],
   "source": [
    "# Let's check the null values in the dataset\n",
    "\n",
    "Customer_data.isnull().sum()"
   ]
  },
  {
   "cell_type": "code",
   "execution_count": 15,
   "id": "89a8fe34",
   "metadata": {},
   "outputs": [],
   "source": [
    "# Fill missing values in categorical columns with mode\n",
    "\n",
    "Customer_data['Multiple Lines'].fillna(Customer_data['Multiple Lines'].mode()[0], inplace=True)"
   ]
  },
  {
   "cell_type": "code",
   "execution_count": 16,
   "id": "d27f02c1",
   "metadata": {},
   "outputs": [],
   "source": [
    "Customer_data['Internet Type'].fillna(Customer_data['Internet Type'].mode()[0], inplace=True)"
   ]
  },
  {
   "cell_type": "code",
   "execution_count": 17,
   "id": "b8422b83",
   "metadata": {},
   "outputs": [],
   "source": [
    "Customer_data['Online Backup'].fillna(Customer_data['Online Backup'].mode()[0], inplace=True)"
   ]
  },
  {
   "cell_type": "code",
   "execution_count": 18,
   "id": "dd67724f",
   "metadata": {},
   "outputs": [],
   "source": [
    "Customer_data['Device Protection Plan'].fillna(Customer_data['Device Protection Plan'].mode()[0], inplace=True)"
   ]
  },
  {
   "cell_type": "code",
   "execution_count": 19,
   "id": "a692be79",
   "metadata": {},
   "outputs": [],
   "source": [
    "Customer_data['Premium Tech Support'].fillna(Customer_data['Premium Tech Support'].mode()[0], inplace=True)"
   ]
  },
  {
   "cell_type": "code",
   "execution_count": 20,
   "id": "29b43c5d",
   "metadata": {},
   "outputs": [],
   "source": [
    "Customer_data['Streaming TV'].fillna(Customer_data['Streaming TV'].mode()[0], inplace=True)"
   ]
  },
  {
   "cell_type": "code",
   "execution_count": 21,
   "id": "29bea01c",
   "metadata": {},
   "outputs": [],
   "source": [
    "Customer_data['Streaming Movies'].fillna(Customer_data['Streaming Movies'].mode()[0], inplace=True)"
   ]
  },
  {
   "cell_type": "code",
   "execution_count": 22,
   "id": "39841a42",
   "metadata": {},
   "outputs": [],
   "source": [
    "Customer_data['Streaming Music'].fillna(Customer_data['Streaming Music'].mode()[0], inplace=True)"
   ]
  },
  {
   "cell_type": "code",
   "execution_count": 23,
   "id": "16f8a259",
   "metadata": {},
   "outputs": [],
   "source": [
    "Customer_data['Unlimited Data'].fillna(Customer_data['Unlimited Data'].mode()[0], inplace=True)"
   ]
  },
  {
   "cell_type": "code",
   "execution_count": 24,
   "id": "4d311bbc",
   "metadata": {},
   "outputs": [],
   "source": [
    "Customer_data['Churn Category'].fillna(Customer_data['Churn Category'].mode()[0], inplace=True)"
   ]
  },
  {
   "cell_type": "code",
   "execution_count": 25,
   "id": "be9fd163",
   "metadata": {},
   "outputs": [],
   "source": [
    "Customer_data['Churn Reason'].fillna(Customer_data['Churn Reason'].mode()[0], inplace=True)"
   ]
  },
  {
   "cell_type": "code",
   "execution_count": 26,
   "id": "09baf911",
   "metadata": {},
   "outputs": [],
   "source": [
    "Customer_data['Online Security'].fillna(Customer_data['Online Security'].mode()[0], inplace=True)"
   ]
  },
  {
   "cell_type": "code",
   "execution_count": null,
   "id": "c0d03959",
   "metadata": {},
   "outputs": [],
   "source": []
  },
  {
   "cell_type": "code",
   "execution_count": 27,
   "id": "9b5c68db",
   "metadata": {},
   "outputs": [],
   "source": [
    "# Fill missing values in numerical columns with the median because there are outliers in our data\n",
    "\n",
    "Customer_data['Avg Monthly Long Distance Charges'].fillna(Customer_data['Avg Monthly Long Distance Charges'].median(),\n",
    "                                                          inplace=True)"
   ]
  },
  {
   "cell_type": "code",
   "execution_count": 28,
   "id": "0e641044",
   "metadata": {},
   "outputs": [],
   "source": [
    "Customer_data['Avg Monthly GB Download'].fillna(Customer_data['Avg Monthly GB Download'].median(),\n",
    "                                                          inplace=True)"
   ]
  },
  {
   "cell_type": "code",
   "execution_count": null,
   "id": "af6f5521",
   "metadata": {},
   "outputs": [],
   "source": []
  },
  {
   "cell_type": "code",
   "execution_count": 29,
   "id": "8f281c6c",
   "metadata": {},
   "outputs": [
    {
     "data": {
      "text/plain": [
       "Gender                               0\n",
       "Age                                  0\n",
       "Married                              0\n",
       "Number of Dependents                 0\n",
       "City                                 0\n",
       "Number of Referrals                  0\n",
       "Tenure in Months                     0\n",
       "Offer                                0\n",
       "Phone Service                        0\n",
       "Avg Monthly Long Distance Charges    0\n",
       "Multiple Lines                       0\n",
       "Internet Service                     0\n",
       "Internet Type                        0\n",
       "Avg Monthly GB Download              0\n",
       "Online Security                      0\n",
       "Online Backup                        0\n",
       "Device Protection Plan               0\n",
       "Premium Tech Support                 0\n",
       "Streaming TV                         0\n",
       "Streaming Movies                     0\n",
       "Streaming Music                      0\n",
       "Unlimited Data                       0\n",
       "Contract                             0\n",
       "Paperless Billing                    0\n",
       "Payment Method                       0\n",
       "Monthly Charge                       0\n",
       "Total Charges                        0\n",
       "Total Refunds                        0\n",
       "Total Extra Data Charges             0\n",
       "Total Long Distance Charges          0\n",
       "Total Revenue                        0\n",
       "Customer Status                      0\n",
       "Churn Category                       0\n",
       "Churn Reason                         0\n",
       "dtype: int64"
      ]
     },
     "execution_count": 29,
     "metadata": {},
     "output_type": "execute_result"
    }
   ],
   "source": [
    "# Let's check if there is missing values were successfully replaced\n",
    "\n",
    "Customer_data.isnull().sum()"
   ]
  },
  {
   "cell_type": "markdown",
   "id": "ffc87045",
   "metadata": {},
   "source": [
    "### Our data is clean because the null values has all been replaced with their mode and mean values."
   ]
  },
  {
   "cell_type": "code",
   "execution_count": null,
   "id": "f9b94d67",
   "metadata": {},
   "outputs": [],
   "source": []
  },
  {
   "cell_type": "code",
   "execution_count": 30,
   "id": "7834046f",
   "metadata": {},
   "outputs": [
    {
     "data": {
      "text/plain": [
       "0"
      ]
     },
     "execution_count": 30,
     "metadata": {},
     "output_type": "execute_result"
    }
   ],
   "source": [
    "# Let's check for duplicates in the data\n",
    "\n",
    "Customer_data.duplicated().sum()"
   ]
  },
  {
   "cell_type": "markdown",
   "id": "48c94029",
   "metadata": {},
   "source": [
    "### There is no duplicate found in our data."
   ]
  },
  {
   "cell_type": "code",
   "execution_count": null,
   "id": "f8df9ee6",
   "metadata": {},
   "outputs": [],
   "source": []
  },
  {
   "cell_type": "markdown",
   "id": "20d74243",
   "metadata": {},
   "source": [
    "# Let's Get The Statistics of the Dataset"
   ]
  },
  {
   "cell_type": "code",
   "execution_count": 31,
   "id": "07d1b6ae",
   "metadata": {},
   "outputs": [
    {
     "data": {
      "text/html": [
       "<div>\n",
       "<style scoped>\n",
       "    .dataframe tbody tr th:only-of-type {\n",
       "        vertical-align: middle;\n",
       "    }\n",
       "\n",
       "    .dataframe tbody tr th {\n",
       "        vertical-align: top;\n",
       "    }\n",
       "\n",
       "    .dataframe thead th {\n",
       "        text-align: right;\n",
       "    }\n",
       "</style>\n",
       "<table border=\"1\" class=\"dataframe\">\n",
       "  <thead>\n",
       "    <tr style=\"text-align: right;\">\n",
       "      <th></th>\n",
       "      <th>Age</th>\n",
       "      <th>Number of Dependents</th>\n",
       "      <th>Number of Referrals</th>\n",
       "      <th>Tenure in Months</th>\n",
       "      <th>Avg Monthly Long Distance Charges</th>\n",
       "      <th>Avg Monthly GB Download</th>\n",
       "      <th>Monthly Charge</th>\n",
       "      <th>Total Charges</th>\n",
       "      <th>Total Refunds</th>\n",
       "      <th>Total Extra Data Charges</th>\n",
       "      <th>Total Long Distance Charges</th>\n",
       "      <th>Total Revenue</th>\n",
       "    </tr>\n",
       "  </thead>\n",
       "  <tbody>\n",
       "    <tr>\n",
       "      <th>count</th>\n",
       "      <td>7043.000000</td>\n",
       "      <td>7043.000000</td>\n",
       "      <td>7043.000000</td>\n",
       "      <td>7043.000000</td>\n",
       "      <td>7043.000000</td>\n",
       "      <td>7043.000000</td>\n",
       "      <td>7043.000000</td>\n",
       "      <td>7043.000000</td>\n",
       "      <td>7043.000000</td>\n",
       "      <td>7043.000000</td>\n",
       "      <td>7043.000000</td>\n",
       "      <td>7043.000000</td>\n",
       "    </tr>\n",
       "    <tr>\n",
       "      <th>mean</th>\n",
       "      <td>46.509726</td>\n",
       "      <td>0.468692</td>\n",
       "      <td>1.951867</td>\n",
       "      <td>32.386767</td>\n",
       "      <td>25.446612</td>\n",
       "      <td>25.065455</td>\n",
       "      <td>63.596131</td>\n",
       "      <td>2280.381264</td>\n",
       "      <td>1.962182</td>\n",
       "      <td>6.860713</td>\n",
       "      <td>749.099262</td>\n",
       "      <td>3034.379056</td>\n",
       "    </tr>\n",
       "    <tr>\n",
       "      <th>std</th>\n",
       "      <td>16.750352</td>\n",
       "      <td>0.962802</td>\n",
       "      <td>3.001199</td>\n",
       "      <td>24.542061</td>\n",
       "      <td>13.495466</td>\n",
       "      <td>17.466342</td>\n",
       "      <td>31.204743</td>\n",
       "      <td>2266.220462</td>\n",
       "      <td>7.902614</td>\n",
       "      <td>25.104978</td>\n",
       "      <td>846.660055</td>\n",
       "      <td>2865.204542</td>\n",
       "    </tr>\n",
       "    <tr>\n",
       "      <th>min</th>\n",
       "      <td>19.000000</td>\n",
       "      <td>0.000000</td>\n",
       "      <td>0.000000</td>\n",
       "      <td>1.000000</td>\n",
       "      <td>1.010000</td>\n",
       "      <td>2.000000</td>\n",
       "      <td>-10.000000</td>\n",
       "      <td>18.800000</td>\n",
       "      <td>0.000000</td>\n",
       "      <td>0.000000</td>\n",
       "      <td>0.000000</td>\n",
       "      <td>21.360000</td>\n",
       "    </tr>\n",
       "    <tr>\n",
       "      <th>25%</th>\n",
       "      <td>32.000000</td>\n",
       "      <td>0.000000</td>\n",
       "      <td>0.000000</td>\n",
       "      <td>9.000000</td>\n",
       "      <td>14.455000</td>\n",
       "      <td>15.000000</td>\n",
       "      <td>30.400000</td>\n",
       "      <td>400.150000</td>\n",
       "      <td>0.000000</td>\n",
       "      <td>0.000000</td>\n",
       "      <td>70.545000</td>\n",
       "      <td>605.610000</td>\n",
       "    </tr>\n",
       "    <tr>\n",
       "      <th>50%</th>\n",
       "      <td>46.000000</td>\n",
       "      <td>0.000000</td>\n",
       "      <td>0.000000</td>\n",
       "      <td>29.000000</td>\n",
       "      <td>25.690000</td>\n",
       "      <td>21.000000</td>\n",
       "      <td>70.050000</td>\n",
       "      <td>1394.550000</td>\n",
       "      <td>0.000000</td>\n",
       "      <td>0.000000</td>\n",
       "      <td>401.440000</td>\n",
       "      <td>2108.640000</td>\n",
       "    </tr>\n",
       "    <tr>\n",
       "      <th>75%</th>\n",
       "      <td>60.000000</td>\n",
       "      <td>0.000000</td>\n",
       "      <td>3.000000</td>\n",
       "      <td>55.000000</td>\n",
       "      <td>36.395000</td>\n",
       "      <td>27.000000</td>\n",
       "      <td>89.750000</td>\n",
       "      <td>3786.600000</td>\n",
       "      <td>0.000000</td>\n",
       "      <td>0.000000</td>\n",
       "      <td>1191.100000</td>\n",
       "      <td>4801.145000</td>\n",
       "    </tr>\n",
       "    <tr>\n",
       "      <th>max</th>\n",
       "      <td>80.000000</td>\n",
       "      <td>9.000000</td>\n",
       "      <td>11.000000</td>\n",
       "      <td>72.000000</td>\n",
       "      <td>49.990000</td>\n",
       "      <td>85.000000</td>\n",
       "      <td>118.750000</td>\n",
       "      <td>8684.800000</td>\n",
       "      <td>49.790000</td>\n",
       "      <td>150.000000</td>\n",
       "      <td>3564.720000</td>\n",
       "      <td>11979.340000</td>\n",
       "    </tr>\n",
       "  </tbody>\n",
       "</table>\n",
       "</div>"
      ],
      "text/plain": [
       "               Age  Number of Dependents  Number of Referrals  \\\n",
       "count  7043.000000           7043.000000          7043.000000   \n",
       "mean     46.509726              0.468692             1.951867   \n",
       "std      16.750352              0.962802             3.001199   \n",
       "min      19.000000              0.000000             0.000000   \n",
       "25%      32.000000              0.000000             0.000000   \n",
       "50%      46.000000              0.000000             0.000000   \n",
       "75%      60.000000              0.000000             3.000000   \n",
       "max      80.000000              9.000000            11.000000   \n",
       "\n",
       "       Tenure in Months  Avg Monthly Long Distance Charges  \\\n",
       "count       7043.000000                        7043.000000   \n",
       "mean          32.386767                          25.446612   \n",
       "std           24.542061                          13.495466   \n",
       "min            1.000000                           1.010000   \n",
       "25%            9.000000                          14.455000   \n",
       "50%           29.000000                          25.690000   \n",
       "75%           55.000000                          36.395000   \n",
       "max           72.000000                          49.990000   \n",
       "\n",
       "       Avg Monthly GB Download  Monthly Charge  Total Charges  Total Refunds  \\\n",
       "count              7043.000000     7043.000000    7043.000000    7043.000000   \n",
       "mean                 25.065455       63.596131    2280.381264       1.962182   \n",
       "std                  17.466342       31.204743    2266.220462       7.902614   \n",
       "min                   2.000000      -10.000000      18.800000       0.000000   \n",
       "25%                  15.000000       30.400000     400.150000       0.000000   \n",
       "50%                  21.000000       70.050000    1394.550000       0.000000   \n",
       "75%                  27.000000       89.750000    3786.600000       0.000000   \n",
       "max                  85.000000      118.750000    8684.800000      49.790000   \n",
       "\n",
       "       Total Extra Data Charges  Total Long Distance Charges  Total Revenue  \n",
       "count               7043.000000                  7043.000000    7043.000000  \n",
       "mean                   6.860713                   749.099262    3034.379056  \n",
       "std                   25.104978                   846.660055    2865.204542  \n",
       "min                    0.000000                     0.000000      21.360000  \n",
       "25%                    0.000000                    70.545000     605.610000  \n",
       "50%                    0.000000                   401.440000    2108.640000  \n",
       "75%                    0.000000                  1191.100000    4801.145000  \n",
       "max                  150.000000                  3564.720000   11979.340000  "
      ]
     },
     "execution_count": 31,
     "metadata": {},
     "output_type": "execute_result"
    }
   ],
   "source": [
    "Customer_data.describe()"
   ]
  },
  {
   "cell_type": "markdown",
   "id": "3601cf18",
   "metadata": {},
   "source": [
    "### The average age of the Telecom customers is 45 years. The minimum years is 19 and the maximum years is 80.\n",
    "\n",
    "### The average tenure in months is 32 months. The minimum month is 1 and maximum is 72 months.\n",
    "\n",
    "### The average monthly long distance download is 25gb. The minimum is 1gb and the maximum is 85gb.\n",
    "\n",
    "### The average total charges 2280 dollars. The minimum total charges is 18 dollars and the maximum toatl charges is 8684 dollars.\n",
    "\n",
    "### The average total long distance charges 749 dollars. The maxmum total long distance charges is 3564 dollars."
   ]
  },
  {
   "cell_type": "code",
   "execution_count": null,
   "id": "477e8987",
   "metadata": {},
   "outputs": [],
   "source": []
  },
  {
   "cell_type": "code",
   "execution_count": 32,
   "id": "13661880",
   "metadata": {},
   "outputs": [
    {
     "data": {
      "text/html": [
       "<div>\n",
       "<style scoped>\n",
       "    .dataframe tbody tr th:only-of-type {\n",
       "        vertical-align: middle;\n",
       "    }\n",
       "\n",
       "    .dataframe tbody tr th {\n",
       "        vertical-align: top;\n",
       "    }\n",
       "\n",
       "    .dataframe thead th {\n",
       "        text-align: right;\n",
       "    }\n",
       "</style>\n",
       "<table border=\"1\" class=\"dataframe\">\n",
       "  <thead>\n",
       "    <tr style=\"text-align: right;\">\n",
       "      <th></th>\n",
       "      <th>Gender</th>\n",
       "      <th>Married</th>\n",
       "      <th>City</th>\n",
       "      <th>Offer</th>\n",
       "      <th>Phone Service</th>\n",
       "      <th>Multiple Lines</th>\n",
       "      <th>Internet Service</th>\n",
       "      <th>Internet Type</th>\n",
       "      <th>Online Security</th>\n",
       "      <th>Online Backup</th>\n",
       "      <th>Device Protection Plan</th>\n",
       "      <th>Premium Tech Support</th>\n",
       "      <th>Streaming TV</th>\n",
       "      <th>Streaming Movies</th>\n",
       "      <th>Streaming Music</th>\n",
       "      <th>Unlimited Data</th>\n",
       "      <th>Contract</th>\n",
       "      <th>Paperless Billing</th>\n",
       "      <th>Payment Method</th>\n",
       "      <th>Customer Status</th>\n",
       "      <th>Churn Category</th>\n",
       "      <th>Churn Reason</th>\n",
       "    </tr>\n",
       "  </thead>\n",
       "  <tbody>\n",
       "    <tr>\n",
       "      <th>count</th>\n",
       "      <td>7043</td>\n",
       "      <td>7043</td>\n",
       "      <td>7043</td>\n",
       "      <td>7043</td>\n",
       "      <td>7043</td>\n",
       "      <td>7043</td>\n",
       "      <td>7043</td>\n",
       "      <td>7043</td>\n",
       "      <td>7043</td>\n",
       "      <td>7043</td>\n",
       "      <td>7043</td>\n",
       "      <td>7043</td>\n",
       "      <td>7043</td>\n",
       "      <td>7043</td>\n",
       "      <td>7043</td>\n",
       "      <td>7043</td>\n",
       "      <td>7043</td>\n",
       "      <td>7043</td>\n",
       "      <td>7043</td>\n",
       "      <td>7043</td>\n",
       "      <td>7043</td>\n",
       "      <td>7043</td>\n",
       "    </tr>\n",
       "    <tr>\n",
       "      <th>unique</th>\n",
       "      <td>2</td>\n",
       "      <td>2</td>\n",
       "      <td>1106</td>\n",
       "      <td>6</td>\n",
       "      <td>2</td>\n",
       "      <td>2</td>\n",
       "      <td>2</td>\n",
       "      <td>3</td>\n",
       "      <td>2</td>\n",
       "      <td>2</td>\n",
       "      <td>2</td>\n",
       "      <td>2</td>\n",
       "      <td>2</td>\n",
       "      <td>2</td>\n",
       "      <td>2</td>\n",
       "      <td>2</td>\n",
       "      <td>3</td>\n",
       "      <td>2</td>\n",
       "      <td>3</td>\n",
       "      <td>3</td>\n",
       "      <td>5</td>\n",
       "      <td>20</td>\n",
       "    </tr>\n",
       "    <tr>\n",
       "      <th>top</th>\n",
       "      <td>Male</td>\n",
       "      <td>No</td>\n",
       "      <td>Los Angeles</td>\n",
       "      <td>None</td>\n",
       "      <td>Yes</td>\n",
       "      <td>No</td>\n",
       "      <td>Yes</td>\n",
       "      <td>Fiber Optic</td>\n",
       "      <td>No</td>\n",
       "      <td>No</td>\n",
       "      <td>No</td>\n",
       "      <td>No</td>\n",
       "      <td>No</td>\n",
       "      <td>No</td>\n",
       "      <td>No</td>\n",
       "      <td>Yes</td>\n",
       "      <td>Month-to-Month</td>\n",
       "      <td>Yes</td>\n",
       "      <td>Bank Withdrawal</td>\n",
       "      <td>Stayed</td>\n",
       "      <td>Competitor</td>\n",
       "      <td>Competitor had better devices</td>\n",
       "    </tr>\n",
       "    <tr>\n",
       "      <th>freq</th>\n",
       "      <td>3555</td>\n",
       "      <td>3641</td>\n",
       "      <td>293</td>\n",
       "      <td>3877</td>\n",
       "      <td>6361</td>\n",
       "      <td>4072</td>\n",
       "      <td>5517</td>\n",
       "      <td>4561</td>\n",
       "      <td>5024</td>\n",
       "      <td>4614</td>\n",
       "      <td>4621</td>\n",
       "      <td>4999</td>\n",
       "      <td>4336</td>\n",
       "      <td>4311</td>\n",
       "      <td>4555</td>\n",
       "      <td>6271</td>\n",
       "      <td>3610</td>\n",
       "      <td>4171</td>\n",
       "      <td>3909</td>\n",
       "      <td>4720</td>\n",
       "      <td>6015</td>\n",
       "      <td>5487</td>\n",
       "    </tr>\n",
       "  </tbody>\n",
       "</table>\n",
       "</div>"
      ],
      "text/plain": [
       "       Gender Married         City Offer Phone Service Multiple Lines  \\\n",
       "count    7043    7043         7043  7043          7043           7043   \n",
       "unique      2       2         1106     6             2              2   \n",
       "top      Male      No  Los Angeles  None           Yes             No   \n",
       "freq     3555    3641          293  3877          6361           4072   \n",
       "\n",
       "       Internet Service Internet Type Online Security Online Backup  \\\n",
       "count              7043          7043            7043          7043   \n",
       "unique                2             3               2             2   \n",
       "top                 Yes   Fiber Optic              No            No   \n",
       "freq               5517          4561            5024          4614   \n",
       "\n",
       "       Device Protection Plan Premium Tech Support Streaming TV  \\\n",
       "count                    7043                 7043         7043   \n",
       "unique                      2                    2            2   \n",
       "top                        No                   No           No   \n",
       "freq                     4621                 4999         4336   \n",
       "\n",
       "       Streaming Movies Streaming Music Unlimited Data        Contract  \\\n",
       "count              7043            7043           7043            7043   \n",
       "unique                2               2              2               3   \n",
       "top                  No              No            Yes  Month-to-Month   \n",
       "freq               4311            4555           6271            3610   \n",
       "\n",
       "       Paperless Billing   Payment Method Customer Status Churn Category  \\\n",
       "count               7043             7043            7043           7043   \n",
       "unique                 2                3               3              5   \n",
       "top                  Yes  Bank Withdrawal          Stayed     Competitor   \n",
       "freq                4171             3909            4720           6015   \n",
       "\n",
       "                         Churn Reason  \n",
       "count                            7043  \n",
       "unique                             20  \n",
       "top     Competitor had better devices  \n",
       "freq                             5487  "
      ]
     },
     "execution_count": 32,
     "metadata": {},
     "output_type": "execute_result"
    }
   ],
   "source": [
    "Customer_data.describe(include='object')"
   ]
  },
  {
   "cell_type": "code",
   "execution_count": null,
   "id": "5b18f0e9",
   "metadata": {},
   "outputs": [],
   "source": []
  },
  {
   "cell_type": "markdown",
   "id": "3b988627",
   "metadata": {},
   "source": [
    "### The top Telecom customer in our data is Male.\n",
    "\n",
    "### The top city in the data is Los Angeles.\n",
    "\n",
    "### Most customers in the data are not married."
   ]
  },
  {
   "cell_type": "code",
   "execution_count": null,
   "id": "a302db38",
   "metadata": {},
   "outputs": [],
   "source": []
  },
  {
   "cell_type": "markdown",
   "id": "a705bb10",
   "metadata": {},
   "source": [
    "# Exploratory Data Exploratory"
   ]
  },
  {
   "cell_type": "code",
   "execution_count": null,
   "id": "0fe2dad0",
   "metadata": {},
   "outputs": [],
   "source": []
  },
  {
   "cell_type": "markdown",
   "id": "ac110ac2",
   "metadata": {},
   "source": [
    "# Categorical Values"
   ]
  },
  {
   "cell_type": "code",
   "execution_count": 33,
   "id": "c9c49fb8",
   "metadata": {},
   "outputs": [
    {
     "data": {
      "text/plain": [
       "Stayed     4720\n",
       "Churned    1869\n",
       "Joined      454\n",
       "Name: Customer Status, dtype: int64"
      ]
     },
     "execution_count": 33,
     "metadata": {},
     "output_type": "execute_result"
    }
   ],
   "source": [
    "# let’s have a look at the distribution of the Customer status column\n",
    "\n",
    "Customer_data['Customer Status'].value_counts()"
   ]
  },
  {
   "cell_type": "code",
   "execution_count": 34,
   "id": "e9db60af",
   "metadata": {},
   "outputs": [
    {
     "data": {
      "image/png": "[encoded data removed]",
      "text/plain": [
       "<Figure size 720x720 with 1 Axes>"
      ]
     },
     "metadata": {},
     "output_type": "display_data"
    }
   ],
   "source": [
    "# Let's visualize the distribution of the Customer status column\n",
    "\n",
    "Customer_data['Customer Status'].value_counts().plot(kind='pie', figsize=(10,10), autopct= '%1.1f%%',\n",
    "                                                     title = 'Customer Status', fontsize=15)\n",
    "plt.show()"
   ]
  },
  {
   "cell_type": "markdown",
   "id": "3b533330",
   "metadata": {},
   "source": [
    "### Looking at the customer status in our data, you can clearly that 67% of the customers stayed, 6% joined and 27% of the customers left."
   ]
  },
  {
   "cell_type": "code",
   "execution_count": null,
   "id": "9928db71",
   "metadata": {},
   "outputs": [],
   "source": []
  },
  {
   "cell_type": "code",
   "execution_count": 35,
   "id": "12f6664e",
   "metadata": {},
   "outputs": [
    {
     "data": {
      "text/plain": [
       "Bank Withdrawal    3909\n",
       "Credit Card        2749\n",
       "Mailed Check        385\n",
       "Name: Payment Method, dtype: int64"
      ]
     },
     "execution_count": 35,
     "metadata": {},
     "output_type": "execute_result"
    }
   ],
   "source": [
    "# let’s have a look at the distribution of the Payment Method column\n",
    "\n",
    "Customer_data['Payment Method'].value_counts()"
   ]
  },
  {
   "cell_type": "code",
   "execution_count": 36,
   "id": "5d3cf6a7",
   "metadata": {},
   "outputs": [
    {
     "data": {
      "image/png": "[encoded data removed]",
      "text/plain": [
       "<Figure size 720x720 with 1 Axes>"
      ]
     },
     "metadata": {},
     "output_type": "display_data"
    }
   ],
   "source": [
    "# Let's visualize the distribution of the Payment Method column\n",
    "\n",
    "Customer_data['Payment Method'].value_counts().plot(kind='pie', figsize=(10,10), autopct= '%1.1f%%',\n",
    "                                                    title = 'Payment Method', fontsize=15)\n",
    "plt.show()"
   ]
  },
  {
   "cell_type": "markdown",
   "id": "b0fd7236",
   "metadata": {},
   "source": [
    "### 56% of the customers use Bank Withdrawal as their payment method for the phone and internet services they enjoy from the Telecom company. 39% use Credit card as their payment method while 6% use Mailed Check for their payment method."
   ]
  },
  {
   "cell_type": "code",
   "execution_count": null,
   "id": "f937d8a7",
   "metadata": {},
   "outputs": [],
   "source": []
  },
  {
   "cell_type": "code",
   "execution_count": 37,
   "id": "4ea04bab",
   "metadata": {},
   "outputs": [
    {
     "data": {
      "text/plain": [
       "Male      3555\n",
       "Female    3488\n",
       "Name: Gender, dtype: int64"
      ]
     },
     "execution_count": 37,
     "metadata": {},
     "output_type": "execute_result"
    }
   ],
   "source": [
    "# let’s have a look at the distribution of the Gender column\n",
    "\n",
    "Customer_data['Gender'].value_counts()"
   ]
  },
  {
   "cell_type": "code",
   "execution_count": 38,
   "id": "520008d2",
   "metadata": {},
   "outputs": [
    {
     "data": {
      "image/png": "[encoded data removed]",
      "text/plain": [
       "<Figure size 720x432 with 1 Axes>"
      ]
     },
     "metadata": {},
     "output_type": "display_data"
    }
   ],
   "source": [
    "# Let's visualize the distribution of the Gender column\n",
    "\n",
    "plt.figure(figsize=(10, 6))\n",
    "plots = sns.countplot(x='Gender', hue='Customer Status', data=Customer_data)\n",
    "plt.xlabel('Gender', fontsize=15)\n",
    "plt.ylabel('Count', fontsize=15)\n",
    "\n",
    "for bar in plots.patches:\n",
    "    plots.annotate(format(bar.get_height()), (bar.get_x() + bar.get_width() / 2, bar.get_height()),\n",
    "                   ha='center', va='center', size=12, xytext=(0, 8), textcoords='offset points')\n",
    "plt.show()"
   ]
  },
  {
   "cell_type": "markdown",
   "id": "f8d9a621",
   "metadata": {},
   "source": [
    "### Closely looking at the Gender distribution in our data, 2338, 939 and 211 females stayed, left and joined the Telecom company.\n",
    "\n",
    "### Coming to the Male gender, 2382, 930 and 243 males stayed, left and joined the Telecom company."
   ]
  },
  {
   "cell_type": "code",
   "execution_count": null,
   "id": "cd8a5950",
   "metadata": {},
   "outputs": [],
   "source": []
  },
  {
   "cell_type": "code",
   "execution_count": 39,
   "id": "5f715e4f",
   "metadata": {},
   "outputs": [
    {
     "data": {
      "text/plain": [
       "No     3641\n",
       "Yes    3402\n",
       "Name: Married, dtype: int64"
      ]
     },
     "execution_count": 39,
     "metadata": {},
     "output_type": "execute_result"
    }
   ],
   "source": [
    "# let’s have a look at the distribution of the Married column\n",
    "\n",
    "Customer_data['Married'].value_counts()"
   ]
  },
  {
   "cell_type": "code",
   "execution_count": 40,
   "id": "f555b2e0",
   "metadata": {},
   "outputs": [
    {
     "data": {
      "image/png": "[encoded data removed]",
      "text/plain": [
       "<Figure size 720x432 with 1 Axes>"
      ]
     },
     "metadata": {},
     "output_type": "display_data"
    }
   ],
   "source": [
    "# Let's visualize the distribution of the Married column\n",
    "\n",
    "plt.figure(figsize=(10, 6))\n",
    "plots = sns.countplot(x='Married', hue='Customer Status', data=Customer_data)\n",
    "plt.xlabel('Married', fontsize=15)\n",
    "plt.ylabel('Count', fontsize=15)\n",
    "\n",
    "for bar in plots.patches:\n",
    "    plots.annotate(format(bar.get_height()), (bar.get_x() + bar.get_width() / 2, bar.get_height()),\n",
    "                   ha='center', va='center', size=12, xytext=(0, 8), textcoords='offset points')\n",
    "plt.show()"
   ]
  },
  {
   "cell_type": "markdown",
   "id": "a6abfb6e",
   "metadata": {},
   "source": [
    "### Here, the number of the customers that are married that stayed, joined and left the Telecom company are totals 2649, 669, and 84 respectively.\n",
    "\n",
    "### Also, the number of the customers that are not married who stayed, joined, and left the Telecom company totals the sum of 2071, 1200, and 370 respectively."
   ]
  },
  {
   "cell_type": "code",
   "execution_count": null,
   "id": "d40fb43c",
   "metadata": {},
   "outputs": [],
   "source": []
  },
  {
   "cell_type": "code",
   "execution_count": 41,
   "id": "015d2982",
   "metadata": {},
   "outputs": [
    {
     "data": {
      "text/plain": [
       "Los Angeles      293\n",
       "San Diego        285\n",
       "San Jose         112\n",
       "Sacramento       108\n",
       "San Francisco    104\n",
       "Name: City, dtype: int64"
      ]
     },
     "execution_count": 41,
     "metadata": {},
     "output_type": "execute_result"
    }
   ],
   "source": [
    "# let’s have a look at the distribution of the City column\n",
    "\n",
    "Customer_data['City'].value_counts().head(5)"
   ]
  },
  {
   "cell_type": "code",
   "execution_count": 42,
   "id": "0cbd63f5",
   "metadata": {},
   "outputs": [
    {
     "data": {
      "image/png": "[encoded data removed]",
      "text/plain": [
       "<Figure size 720x720 with 1 Axes>"
      ]
     },
     "metadata": {},
     "output_type": "display_data"
    }
   ],
   "source": [
    "# Let's visualize the distribution of the City column\n",
    "\n",
    "Customer_data['City'].value_counts().head(5).plot(kind='pie', figsize=(10,10), autopct= '%1.1f%%',\n",
    "                                                  title = 'City Distribution', fontsize=15)\n",
    "plt.show()"
   ]
  },
  {
   "cell_type": "markdown",
   "id": "5b777ff3",
   "metadata": {},
   "source": [
    "### Los Angeles is the top city distribution in our data with 33%, followed by San Diego with 32%, San Jose, Sacramento and San Francisco with 12% each."
   ]
  },
  {
   "cell_type": "code",
   "execution_count": null,
   "id": "ea4a91ff",
   "metadata": {},
   "outputs": [],
   "source": []
  },
  {
   "cell_type": "code",
   "execution_count": 43,
   "id": "c3c774f0",
   "metadata": {},
   "outputs": [
    {
     "data": {
      "text/plain": [
       "Fiber Optic    4561\n",
       "DSL            1652\n",
       "Cable           830\n",
       "Name: Internet Type, dtype: int64"
      ]
     },
     "execution_count": 43,
     "metadata": {},
     "output_type": "execute_result"
    }
   ],
   "source": [
    "# let’s have a look at the distribution of the Internet Type column\n",
    "\n",
    "Customer_data['Internet Type'].value_counts()"
   ]
  },
  {
   "cell_type": "code",
   "execution_count": 44,
   "id": "eb10724b",
   "metadata": {},
   "outputs": [
    {
     "data": {
      "image/png": "[encoded data removed]",
      "text/plain": [
       "<Figure size 720x432 with 1 Axes>"
      ]
     },
     "metadata": {},
     "output_type": "display_data"
    }
   ],
   "source": [
    "# Let's visualize the distribution of the Internet Type column\n",
    "\n",
    "plt.figure(figsize=(10, 6))\n",
    "plots = sns.countplot(x='Internet Type', hue='Customer Status', data=Customer_data)\n",
    "plt.xlabel('Internet Type', fontsize=15)\n",
    "plt.ylabel('Count', fontsize=15)\n",
    "\n",
    "for bar in plots.patches:\n",
    "    plots.annotate(format(bar.get_height()), (bar.get_x() + bar.get_width() / 2, bar.get_height()),\n",
    "                   ha='center', va='center', size=12, xytext=(0, 8), textcoords='offset points')\n",
    "plt.show()"
   ]
  },
  {
   "cell_type": "markdown",
   "id": "3fbb7e06",
   "metadata": {},
   "source": [
    "### Here, the sum of 561 of the customers that use Cable as their Internet Type stayed at the Telecom company, 213 customers left and 56 customers joined the company.\n",
    "\n",
    "### The sum of 2929 of the customers that use Fiber Optic as their Internet Type stayed at the Telecom company, 1349 customers left and 283 customers joined the company.\n",
    "\n",
    "### The sum of 1230 of the customers that use DSL as their Internet Type at the Telecom company, 307 customers left and 115 customers joined the company."
   ]
  },
  {
   "cell_type": "code",
   "execution_count": null,
   "id": "0785a223",
   "metadata": {},
   "outputs": [],
   "source": []
  },
  {
   "cell_type": "code",
   "execution_count": 45,
   "id": "597c3459",
   "metadata": {},
   "outputs": [
    {
     "data": {
      "text/plain": [
       "No     4072\n",
       "Yes    2971\n",
       "Name: Multiple Lines, dtype: int64"
      ]
     },
     "execution_count": 45,
     "metadata": {},
     "output_type": "execute_result"
    }
   ],
   "source": [
    "# let’s have a look at the distribution of the Multiple Lines column\n",
    "\n",
    "Customer_data['Multiple Lines'].value_counts()"
   ]
  },
  {
   "cell_type": "code",
   "execution_count": 46,
   "id": "9d4834c8",
   "metadata": {},
   "outputs": [
    {
     "data": {
      "image/png": "[encoded data removed]",
      "text/plain": [
       "<Figure size 720x432 with 1 Axes>"
      ]
     },
     "metadata": {},
     "output_type": "display_data"
    }
   ],
   "source": [
    "# Let's visualize the distribution of the Multiple Lines column\n",
    "\n",
    "plt.figure(figsize=(10, 6))\n",
    "plots = sns.countplot(x='Multiple Lines', hue='Customer Status', data=Customer_data)\n",
    "plt.xlabel('Multiple Lines', fontsize=15)\n",
    "plt.ylabel('Count', fontsize=15)\n",
    "\n",
    "for bar in plots.patches:\n",
    "    plots.annotate(format(bar.get_height()), (bar.get_x() + bar.get_width() / 2, bar.get_height()),\n",
    "                   ha='center', va='center', size=12, xytext=(0, 8), textcoords='offset points')\n",
    "plt.show()"
   ]
  },
  {
   "cell_type": "markdown",
   "id": "dd745610",
   "metadata": {},
   "source": [
    "### 2644 customers that don't have multiple lines stayed at the Telecom company, 1019 customers left the company, and 409 customers joined the company.\n",
    "\n",
    "### 2076 customers that use multiple lines stayed at the Telecom company, 850 customers left the company, and 45 customers joined the company."
   ]
  },
  {
   "cell_type": "code",
   "execution_count": null,
   "id": "61bd7af8",
   "metadata": {},
   "outputs": [],
   "source": []
  },
  {
   "cell_type": "code",
   "execution_count": 47,
   "id": "6082811d",
   "metadata": {},
   "outputs": [
    {
     "data": {
      "text/plain": [
       "Yes    6361\n",
       "No      682\n",
       "Name: Phone Service, dtype: int64"
      ]
     },
     "execution_count": 47,
     "metadata": {},
     "output_type": "execute_result"
    }
   ],
   "source": [
    "# let’s have a look at the distribution of the Phone Service column\n",
    "\n",
    "Customer_data['Phone Service'].value_counts()"
   ]
  },
  {
   "cell_type": "code",
   "execution_count": 48,
   "id": "816576eb",
   "metadata": {},
   "outputs": [
    {
     "data": {
      "image/png": "[encoded data removed]",
      "text/plain": [
       "<Figure size 720x432 with 1 Axes>"
      ]
     },
     "metadata": {},
     "output_type": "display_data"
    }
   ],
   "source": [
    "# Let's visualize the distribution of the Phone Service column\n",
    "\n",
    "plt.figure(figsize=(10, 6))\n",
    "plots = sns.countplot(x='Phone Service', hue='Customer Status', data=Customer_data)\n",
    "plt.xlabel('Phone Service', fontsize=15)\n",
    "plt.ylabel('Count', fontsize=15)\n",
    "\n",
    "for bar in plots.patches:\n",
    "    plots.annotate(format(bar.get_height()), (bar.get_x() + bar.get_width() / 2, bar.get_height()),\n",
    "                   ha='center', va='center', size=12, xytext=(0, 8), textcoords='offset points')\n",
    "plt.show()"
   ]
  },
  {
   "cell_type": "markdown",
   "id": "81c3761e",
   "metadata": {},
   "source": [
    "### 4246 customers that have phone service stayed at the company, 1699 customers left the company and 416 joined the company.\n",
    "\n",
    "### 474 customers don't have phone service stayed at the company, 170 customers left the company and 38 joined the company."
   ]
  },
  {
   "cell_type": "code",
   "execution_count": null,
   "id": "3d6d8c26",
   "metadata": {},
   "outputs": [],
   "source": []
  },
  {
   "cell_type": "code",
   "execution_count": 49,
   "id": "4a7e3d6a",
   "metadata": {},
   "outputs": [
    {
     "data": {
      "text/plain": [
       "Bank Withdrawal    3909\n",
       "Credit Card        2749\n",
       "Mailed Check        385\n",
       "Name: Payment Method, dtype: int64"
      ]
     },
     "execution_count": 49,
     "metadata": {},
     "output_type": "execute_result"
    }
   ],
   "source": [
    "# let’s have a look at the distribution of the Payment Method column\n",
    "\n",
    "Customer_data['Payment Method'].value_counts()"
   ]
  },
  {
   "cell_type": "code",
   "execution_count": 50,
   "id": "e03419bc",
   "metadata": {},
   "outputs": [
    {
     "data": {
      "image/png": "[encoded data removed]",
      "text/plain": [
       "<Figure size 720x432 with 1 Axes>"
      ]
     },
     "metadata": {},
     "output_type": "display_data"
    }
   ],
   "source": [
    "# Let's visualize the distribution of the Payment Method column\n",
    "\n",
    "plt.figure(figsize=(10, 6))\n",
    "plots = sns.countplot(x='Payment Method', hue='Customer Status', data=Customer_data)\n",
    "plt.xlabel('Payment Method', fontsize=15)\n",
    "plt.ylabel('Count', fontsize=15)\n",
    "\n",
    "for bar in plots.patches:\n",
    "    plots.annotate(format(bar.get_height()), (bar.get_x() + bar.get_width() / 2, bar.get_height()),\n",
    "                   ha='center', va='center', size=12, xytext=(0, 8), textcoords='offset points')\n",
    "plt.show()"
   ]
  },
  {
   "cell_type": "markdown",
   "id": "c939835e",
   "metadata": {},
   "source": [
    "### Here, 2120 customers that use Credit Card as their payment method stayed at the Telecom company, 398 customers left the company, and 231 customers joined the company.\n",
    "\n",
    "### 2399 customers that use Bank Withdrawal as their payment method stayed at the company, 1329 customers left the company, and 181 joined company.\n",
    "\n",
    "### Finally, 201 customers that use Mailed check as their payment method stayed at the company, 142 customers left the company, and 42 joined the comapny."
   ]
  },
  {
   "cell_type": "code",
   "execution_count": null,
   "id": "94456e2b",
   "metadata": {},
   "outputs": [],
   "source": []
  },
  {
   "cell_type": "code",
   "execution_count": 51,
   "id": "65ca7dfd",
   "metadata": {},
   "outputs": [
    {
     "data": {
      "text/plain": [
       "Month-to-Month    3610\n",
       "Two Year          1883\n",
       "One Year          1550\n",
       "Name: Contract, dtype: int64"
      ]
     },
     "execution_count": 51,
     "metadata": {},
     "output_type": "execute_result"
    }
   ],
   "source": [
    "# let’s have a look at the distribution of the Contract column\n",
    "\n",
    "Customer_data['Contract'].value_counts()"
   ]
  },
  {
   "cell_type": "code",
   "execution_count": 52,
   "id": "3b1b9a99",
   "metadata": {},
   "outputs": [
    {
     "data": {
      "image/png": "[encoded data removed]",
      "text/plain": [
       "<Figure size 720x432 with 1 Axes>"
      ]
     },
     "metadata": {},
     "output_type": "display_data"
    }
   ],
   "source": [
    "# Let's visualize the distribution of the Contract column\n",
    "\n",
    "plt.figure(figsize=(10, 6))\n",
    "plots = sns.countplot(x='Contract', hue='Customer Status', data=Customer_data)\n",
    "plt.xlabel('Contract', fontsize=15)\n",
    "plt.ylabel('Count', fontsize=15)\n",
    "\n",
    "for bar in plots.patches:\n",
    "    plots.annotate(format(bar.get_height()), (bar.get_x() + bar.get_width() / 2, bar.get_height()),\n",
    "                   ha='center', va='center', size=12, xytext=(0, 8), textcoords='offset points')\n",
    "plt.show()"
   ]
  },
  {
   "cell_type": "markdown",
   "id": "5d0cf83c",
   "metadata": {},
   "source": [
    "### There are 1360 customers that have One Year contract stayed at the company, 166 customers left the company and 24 customers joined the company.\n",
    "\n",
    "### 1547 customers that have Month-to-Month contract stayed back at the company, 1655 customers left the company and 408 customer joined the company.\n",
    "\n",
    "### 1813 customers that have Two Year contract stayed back at the company, 48 customers left the company and 22 customers joined the company."
   ]
  },
  {
   "cell_type": "code",
   "execution_count": null,
   "id": "a0645095",
   "metadata": {},
   "outputs": [],
   "source": []
  },
  {
   "cell_type": "code",
   "execution_count": 53,
   "id": "3ebfdc18",
   "metadata": {},
   "outputs": [
    {
     "data": {
      "text/plain": [
       "Competitor         6015\n",
       "Dissatisfaction     321\n",
       "Attitude            314\n",
       "Price               211\n",
       "Other               182\n",
       "Name: Churn Category, dtype: int64"
      ]
     },
     "execution_count": 53,
     "metadata": {},
     "output_type": "execute_result"
    }
   ],
   "source": [
    "# let’s have a look at the distribution of the Churn Category column\n",
    "\n",
    "Customer_data['Churn Category'].value_counts()"
   ]
  },
  {
   "cell_type": "code",
   "execution_count": 54,
   "id": "ffb4e429",
   "metadata": {},
   "outputs": [
    {
     "data": {
      "image/png": "[encoded data removed]",
      "text/plain": [
       "<Figure size 720x720 with 1 Axes>"
      ]
     },
     "metadata": {},
     "output_type": "display_data"
    }
   ],
   "source": [
    "# Let's visualize the distribution of the City column\n",
    "\n",
    "Customer_data['Churn Category'].value_counts().head(5).plot(kind='pie', figsize=(10,10), autopct= '%1.1f%%',\n",
    "                                                            title = 'Churn Category Distribution', fontsize=15)\n",
    "plt.show()"
   ]
  },
  {
   "cell_type": "markdown",
   "id": "d71f4bff",
   "metadata": {},
   "source": [
    "### 85% goes to the competitor churn category, 5% goes to dissatisfaction and attitude each while 3% price and other each."
   ]
  },
  {
   "cell_type": "code",
   "execution_count": null,
   "id": "7d56b2d5",
   "metadata": {},
   "outputs": [],
   "source": []
  },
  {
   "cell_type": "code",
   "execution_count": 55,
   "id": "d9d3dc66",
   "metadata": {},
   "outputs": [
    {
     "data": {
      "text/plain": [
       "Competitor had better devices                5487\n",
       "Competitor made better offer                  311\n",
       "Attitude of support person                    220\n",
       "Don't know                                    130\n",
       "Competitor offered more data                  117\n",
       "Competitor offered higher download speeds     100\n",
       "Attitude of service provider                   94\n",
       "Price too high                                 78\n",
       "Product dissatisfaction                        77\n",
       "Network reliability                            72\n",
       "Long distance charges                          64\n",
       "Service dissatisfaction                        63\n",
       "Moved                                          46\n",
       "Extra data charges                             39\n",
       "Limited range of services                      37\n",
       "Poor expertise of online support               31\n",
       "Lack of affordable download/upload speed       30\n",
       "Lack of self-service on Website                29\n",
       "Poor expertise of phone support                12\n",
       "Deceased                                        6\n",
       "Name: Churn Reason, dtype: int64"
      ]
     },
     "execution_count": 55,
     "metadata": {},
     "output_type": "execute_result"
    }
   ],
   "source": [
    "# let’s have a look at the distribution of the Churn Reason column\n",
    "\n",
    "Customer_data['Churn Reason'].value_counts()"
   ]
  },
  {
   "cell_type": "code",
   "execution_count": 56,
   "id": "dfae5204",
   "metadata": {},
   "outputs": [
    {
     "data": {
      "image/png": "[encoded data removed]",
      "text/plain": [
       "<Figure size 720x432 with 1 Axes>"
      ]
     },
     "metadata": {},
     "output_type": "display_data"
    }
   ],
   "source": [
    "# Let's visualize the distribution of the Churn Reason column\n",
    "\n",
    "plt.figure(figsize=(10, 6))\n",
    "sorted_data = Customer_data['Churn Reason'].value_counts().sort_values(ascending=False)\n",
    "plots = sns.countplot(y='Churn Reason', data=Customer_data, order=sorted_data.index)\n",
    "plt.xlabel('Count', fontsize=15)\n",
    "plt.ylabel('Churn Reason', fontsize=15)\n",
    "\n",
    "for bar in plots.patches:\n",
    "    plots.annotate(\"{:.0f}\".format(bar.get_width()), (bar.get_width(), bar.get_y() + bar.get_height() / 2),\n",
    "                   ha='center', va='center', size=12, xytext=(8, 0), textcoords='offset points')\n",
    "\n",
    "plt.show()"
   ]
  },
  {
   "cell_type": "markdown",
   "id": "71736999",
   "metadata": {},
   "source": [
    "### The main reason why the customers at the Telecom company leave the company is because competitors had better devices. Secondly, the competitors made better offer."
   ]
  },
  {
   "cell_type": "code",
   "execution_count": null,
   "id": "5dd89467",
   "metadata": {},
   "outputs": [],
   "source": []
  },
  {
   "cell_type": "markdown",
   "id": "523b306d",
   "metadata": {},
   "source": [
    "# Numerical Values"
   ]
  },
  {
   "cell_type": "code",
   "execution_count": 57,
   "id": "757668ca",
   "metadata": {},
   "outputs": [
    {
     "data": {
      "text/html": [
       "<div>\n",
       "<style scoped>\n",
       "    .dataframe tbody tr th:only-of-type {\n",
       "        vertical-align: middle;\n",
       "    }\n",
       "\n",
       "    .dataframe tbody tr th {\n",
       "        vertical-align: top;\n",
       "    }\n",
       "\n",
       "    .dataframe thead th {\n",
       "        text-align: right;\n",
       "    }\n",
       "</style>\n",
       "<table border=\"1\" class=\"dataframe\">\n",
       "  <thead>\n",
       "    <tr style=\"text-align: right;\">\n",
       "      <th></th>\n",
       "      <th>Gender</th>\n",
       "      <th>Age</th>\n",
       "      <th>Married</th>\n",
       "      <th>Number of Dependents</th>\n",
       "      <th>City</th>\n",
       "      <th>Number of Referrals</th>\n",
       "      <th>Tenure in Months</th>\n",
       "      <th>Offer</th>\n",
       "      <th>Phone Service</th>\n",
       "      <th>Avg Monthly Long Distance Charges</th>\n",
       "      <th>Multiple Lines</th>\n",
       "      <th>Internet Service</th>\n",
       "      <th>Internet Type</th>\n",
       "      <th>Avg Monthly GB Download</th>\n",
       "      <th>Online Security</th>\n",
       "      <th>Online Backup</th>\n",
       "      <th>Device Protection Plan</th>\n",
       "      <th>Premium Tech Support</th>\n",
       "      <th>Streaming TV</th>\n",
       "      <th>Streaming Movies</th>\n",
       "      <th>Streaming Music</th>\n",
       "      <th>Unlimited Data</th>\n",
       "      <th>Contract</th>\n",
       "      <th>Paperless Billing</th>\n",
       "      <th>Payment Method</th>\n",
       "      <th>Monthly Charge</th>\n",
       "      <th>Total Charges</th>\n",
       "      <th>Total Refunds</th>\n",
       "      <th>Total Extra Data Charges</th>\n",
       "      <th>Total Long Distance Charges</th>\n",
       "      <th>Total Revenue</th>\n",
       "      <th>Customer Status</th>\n",
       "      <th>Churn Category</th>\n",
       "      <th>Churn Reason</th>\n",
       "    </tr>\n",
       "  </thead>\n",
       "  <tbody>\n",
       "    <tr>\n",
       "      <th>0</th>\n",
       "      <td>Female</td>\n",
       "      <td>37</td>\n",
       "      <td>Yes</td>\n",
       "      <td>0</td>\n",
       "      <td>Frazier Park</td>\n",
       "      <td>2</td>\n",
       "      <td>9</td>\n",
       "      <td>None</td>\n",
       "      <td>Yes</td>\n",
       "      <td>42.39</td>\n",
       "      <td>No</td>\n",
       "      <td>Yes</td>\n",
       "      <td>Cable</td>\n",
       "      <td>16.0</td>\n",
       "      <td>No</td>\n",
       "      <td>Yes</td>\n",
       "      <td>No</td>\n",
       "      <td>Yes</td>\n",
       "      <td>Yes</td>\n",
       "      <td>No</td>\n",
       "      <td>No</td>\n",
       "      <td>Yes</td>\n",
       "      <td>One Year</td>\n",
       "      <td>Yes</td>\n",
       "      <td>Credit Card</td>\n",
       "      <td>65.6</td>\n",
       "      <td>593.3</td>\n",
       "      <td>0.0</td>\n",
       "      <td>0</td>\n",
       "      <td>381.51</td>\n",
       "      <td>974.81</td>\n",
       "      <td>Stayed</td>\n",
       "      <td>Competitor</td>\n",
       "      <td>Competitor had better devices</td>\n",
       "    </tr>\n",
       "  </tbody>\n",
       "</table>\n",
       "</div>"
      ],
      "text/plain": [
       "   Gender  Age Married  Number of Dependents          City  \\\n",
       "0  Female   37     Yes                     0  Frazier Park   \n",
       "\n",
       "   Number of Referrals  Tenure in Months Offer Phone Service  \\\n",
       "0                    2                 9  None           Yes   \n",
       "\n",
       "   Avg Monthly Long Distance Charges Multiple Lines Internet Service  \\\n",
       "0                              42.39             No              Yes   \n",
       "\n",
       "  Internet Type  Avg Monthly GB Download Online Security Online Backup  \\\n",
       "0         Cable                     16.0              No           Yes   \n",
       "\n",
       "  Device Protection Plan Premium Tech Support Streaming TV Streaming Movies  \\\n",
       "0                     No                  Yes          Yes               No   \n",
       "\n",
       "  Streaming Music Unlimited Data  Contract Paperless Billing Payment Method  \\\n",
       "0              No            Yes  One Year               Yes    Credit Card   \n",
       "\n",
       "   Monthly Charge  Total Charges  Total Refunds  Total Extra Data Charges  \\\n",
       "0            65.6          593.3            0.0                         0   \n",
       "\n",
       "   Total Long Distance Charges  Total Revenue Customer Status Churn Category  \\\n",
       "0                       381.51         974.81          Stayed     Competitor   \n",
       "\n",
       "                    Churn Reason  \n",
       "0  Competitor had better devices  "
      ]
     },
     "execution_count": 57,
     "metadata": {},
     "output_type": "execute_result"
    }
   ],
   "source": [
    "# Let's view our the data\n",
    "\n",
    "Customer_data.head(1)"
   ]
  },
  {
   "cell_type": "code",
   "execution_count": null,
   "id": "56f2b25d",
   "metadata": {},
   "outputs": [],
   "source": []
  },
  {
   "cell_type": "code",
   "execution_count": 58,
   "id": "0fe09e21",
   "metadata": {},
   "outputs": [
    {
     "data": {
      "image/png": "[encoded data removed]",
      "text/plain": [
       "<Figure size 432x288 with 1 Axes>"
      ]
     },
     "metadata": {},
     "output_type": "display_data"
    }
   ],
   "source": [
    "sns.boxplot(data=Customer_data, x='Age')\n",
    "plt.title('Age Distribution')\n",
    "plt.show()"
   ]
  },
  {
   "cell_type": "code",
   "execution_count": null,
   "id": "87832ec4",
   "metadata": {},
   "outputs": [],
   "source": []
  },
  {
   "cell_type": "code",
   "execution_count": 59,
   "id": "5addb127",
   "metadata": {},
   "outputs": [
    {
     "data": {
      "image/png": "[encoded data removed]",
      "text/plain": [
       "<Figure size 432x288 with 1 Axes>"
      ]
     },
     "metadata": {},
     "output_type": "display_data"
    }
   ],
   "source": [
    "sns.histplot(data=Customer_data, x='Avg Monthly Long Distance Charges', kde=True)  # kde=True adds a kernel density estimate line\n",
    "plt.title('Avg Monthly Long Distance Charges')\n",
    "plt.show()"
   ]
  },
  {
   "cell_type": "code",
   "execution_count": null,
   "id": "dc6a6c7b",
   "metadata": {},
   "outputs": [],
   "source": []
  },
  {
   "cell_type": "code",
   "execution_count": 60,
   "id": "9ab2625d",
   "metadata": {},
   "outputs": [
    {
     "data": {
      "image/png": "[encoded data removed]",
      "text/plain": [
       "<Figure size 432x288 with 1 Axes>"
      ]
     },
     "metadata": {},
     "output_type": "display_data"
    }
   ],
   "source": [
    "sns.histplot(data=Customer_data, x='Avg Monthly Long Distance Charges', kde=True)  # kde=True adds a kernel density estimate line\n",
    "plt.title('Age Distribution')\n",
    "plt.show()"
   ]
  },
  {
   "cell_type": "code",
   "execution_count": 61,
   "id": "21eddf7d",
   "metadata": {},
   "outputs": [
    {
     "data": {
      "image/png": "[encoded data removed]",
      "text/plain": [
       "<Figure size 432x288 with 1 Axes>"
      ]
     },
     "metadata": {},
     "output_type": "display_data"
    }
   ],
   "source": [
    "sns.histplot(data=Customer_data, x='Avg Monthly GB Download', kde=True)  # kde=True adds a kernel density estimate line\n",
    "plt.title('Avg Monthly GB Download Distribution')\n",
    "plt.show()"
   ]
  },
  {
   "cell_type": "code",
   "execution_count": null,
   "id": "acf119cc",
   "metadata": {},
   "outputs": [],
   "source": []
  },
  {
   "cell_type": "code",
   "execution_count": 62,
   "id": "7b37ac02",
   "metadata": {},
   "outputs": [
    {
     "data": {
      "image/png": "[encoded data removed]",
      "text/plain": [
       "<Figure size 432x288 with 1 Axes>"
      ]
     },
     "metadata": {},
     "output_type": "display_data"
    }
   ],
   "source": [
    "sns.histplot(data=Customer_data, x='Total Charges', kde=True)  # kde=True adds a kernel density estimate line\n",
    "plt.title('Total Charges')\n",
    "plt.show()"
   ]
  },
  {
   "cell_type": "code",
   "execution_count": null,
   "id": "ca31fb97",
   "metadata": {},
   "outputs": [],
   "source": []
  },
  {
   "cell_type": "code",
   "execution_count": 63,
   "id": "b95588a8",
   "metadata": {},
   "outputs": [
    {
     "data": {
      "image/png": "[encoded data removed]",
      "text/plain": [
       "<Figure size 432x288 with 1 Axes>"
      ]
     },
     "metadata": {},
     "output_type": "display_data"
    }
   ],
   "source": [
    "sns.histplot(data=Customer_data, x='Total Revenue', kde=True)  # kde=True adds a kernel density estimate line\n",
    "plt.title('Total Revenue')\n",
    "plt.show()"
   ]
  },
  {
   "cell_type": "code",
   "execution_count": null,
   "id": "e488928b",
   "metadata": {},
   "outputs": [],
   "source": []
  },
  {
   "cell_type": "code",
   "execution_count": 64,
   "id": "6ff3ea23",
   "metadata": {},
   "outputs": [
    {
     "data": {
      "image/png": "[encoded data removed]",
      "text/plain": [
       "<Figure size 432x288 with 1 Axes>"
      ]
     },
     "metadata": {},
     "output_type": "display_data"
    }
   ],
   "source": [
    "sns.histplot(data=Customer_data, x='Total Long Distance Charges', kde=True)  # kde=True adds a kernel density estimate line\n",
    "plt.title('Total Long Distance Charges')\n",
    "plt.show()"
   ]
  },
  {
   "cell_type": "code",
   "execution_count": null,
   "id": "ff928086",
   "metadata": {},
   "outputs": [],
   "source": []
  },
  {
   "cell_type": "markdown",
   "id": "219451c8",
   "metadata": {},
   "source": [
    "# Correlation (Positive and Negative correlation)"
   ]
  },
  {
   "cell_type": "code",
   "execution_count": 65,
   "id": "6509a84e",
   "metadata": {},
   "outputs": [],
   "source": [
    "correlation = Customer_data.corr()"
   ]
  },
  {
   "cell_type": "code",
   "execution_count": 66,
   "id": "1550131a",
   "metadata": {},
   "outputs": [
    {
     "data": {
      "image/png": "[encoded data removed]",
      "text/plain": [
       "<Figure size 1080x720 with 2 Axes>"
      ]
     },
     "metadata": {},
     "output_type": "display_data"
    }
   ],
   "source": [
    "plt.figure(figsize = (15,10))\n",
    "sns.heatmap(Customer_data.corr(), annot = True, cmap = 'RdYlGn')\n",
    "plt.title('Correlation between the columns', fontsize = 25)\n",
    "plt.show()"
   ]
  },
  {
   "cell_type": "code",
   "execution_count": null,
   "id": "d266d464",
   "metadata": {},
   "outputs": [],
   "source": []
  },
  {
   "cell_type": "markdown",
   "id": "74e57c6f",
   "metadata": {},
   "source": [
    "# Dropping The Features That Are Not Necessary For Our Prediction"
   ]
  },
  {
   "cell_type": "code",
   "execution_count": null,
   "id": "c600a359",
   "metadata": {},
   "outputs": [],
   "source": []
  },
  {
   "cell_type": "code",
   "execution_count": 67,
   "id": "b20360da",
   "metadata": {},
   "outputs": [
    {
     "data": {
      "text/html": [
       "<div>\n",
       "<style scoped>\n",
       "    .dataframe tbody tr th:only-of-type {\n",
       "        vertical-align: middle;\n",
       "    }\n",
       "\n",
       "    .dataframe tbody tr th {\n",
       "        vertical-align: top;\n",
       "    }\n",
       "\n",
       "    .dataframe thead th {\n",
       "        text-align: right;\n",
       "    }\n",
       "</style>\n",
       "<table border=\"1\" class=\"dataframe\">\n",
       "  <thead>\n",
       "    <tr style=\"text-align: right;\">\n",
       "      <th></th>\n",
       "      <th>Gender</th>\n",
       "      <th>Age</th>\n",
       "      <th>Married</th>\n",
       "      <th>Number of Dependents</th>\n",
       "      <th>City</th>\n",
       "      <th>Number of Referrals</th>\n",
       "      <th>Tenure in Months</th>\n",
       "      <th>Offer</th>\n",
       "      <th>Phone Service</th>\n",
       "      <th>Avg Monthly Long Distance Charges</th>\n",
       "      <th>Multiple Lines</th>\n",
       "      <th>Internet Service</th>\n",
       "      <th>Internet Type</th>\n",
       "      <th>Avg Monthly GB Download</th>\n",
       "      <th>Online Security</th>\n",
       "      <th>Online Backup</th>\n",
       "      <th>Device Protection Plan</th>\n",
       "      <th>Premium Tech Support</th>\n",
       "      <th>Streaming TV</th>\n",
       "      <th>Streaming Movies</th>\n",
       "      <th>Streaming Music</th>\n",
       "      <th>Unlimited Data</th>\n",
       "      <th>Contract</th>\n",
       "      <th>Paperless Billing</th>\n",
       "      <th>Payment Method</th>\n",
       "      <th>Monthly Charge</th>\n",
       "      <th>Total Charges</th>\n",
       "      <th>Total Refunds</th>\n",
       "      <th>Total Extra Data Charges</th>\n",
       "      <th>Total Long Distance Charges</th>\n",
       "      <th>Total Revenue</th>\n",
       "      <th>Customer Status</th>\n",
       "      <th>Churn Category</th>\n",
       "      <th>Churn Reason</th>\n",
       "    </tr>\n",
       "  </thead>\n",
       "  <tbody>\n",
       "    <tr>\n",
       "      <th>0</th>\n",
       "      <td>Female</td>\n",
       "      <td>37</td>\n",
       "      <td>Yes</td>\n",
       "      <td>0</td>\n",
       "      <td>Frazier Park</td>\n",
       "      <td>2</td>\n",
       "      <td>9</td>\n",
       "      <td>None</td>\n",
       "      <td>Yes</td>\n",
       "      <td>42.39</td>\n",
       "      <td>No</td>\n",
       "      <td>Yes</td>\n",
       "      <td>Cable</td>\n",
       "      <td>16.0</td>\n",
       "      <td>No</td>\n",
       "      <td>Yes</td>\n",
       "      <td>No</td>\n",
       "      <td>Yes</td>\n",
       "      <td>Yes</td>\n",
       "      <td>No</td>\n",
       "      <td>No</td>\n",
       "      <td>Yes</td>\n",
       "      <td>One Year</td>\n",
       "      <td>Yes</td>\n",
       "      <td>Credit Card</td>\n",
       "      <td>65.6</td>\n",
       "      <td>593.3</td>\n",
       "      <td>0.0</td>\n",
       "      <td>0</td>\n",
       "      <td>381.51</td>\n",
       "      <td>974.81</td>\n",
       "      <td>Stayed</td>\n",
       "      <td>Competitor</td>\n",
       "      <td>Competitor had better devices</td>\n",
       "    </tr>\n",
       "  </tbody>\n",
       "</table>\n",
       "</div>"
      ],
      "text/plain": [
       "   Gender  Age Married  Number of Dependents          City  \\\n",
       "0  Female   37     Yes                     0  Frazier Park   \n",
       "\n",
       "   Number of Referrals  Tenure in Months Offer Phone Service  \\\n",
       "0                    2                 9  None           Yes   \n",
       "\n",
       "   Avg Monthly Long Distance Charges Multiple Lines Internet Service  \\\n",
       "0                              42.39             No              Yes   \n",
       "\n",
       "  Internet Type  Avg Monthly GB Download Online Security Online Backup  \\\n",
       "0         Cable                     16.0              No           Yes   \n",
       "\n",
       "  Device Protection Plan Premium Tech Support Streaming TV Streaming Movies  \\\n",
       "0                     No                  Yes          Yes               No   \n",
       "\n",
       "  Streaming Music Unlimited Data  Contract Paperless Billing Payment Method  \\\n",
       "0              No            Yes  One Year               Yes    Credit Card   \n",
       "\n",
       "   Monthly Charge  Total Charges  Total Refunds  Total Extra Data Charges  \\\n",
       "0            65.6          593.3            0.0                         0   \n",
       "\n",
       "   Total Long Distance Charges  Total Revenue Customer Status Churn Category  \\\n",
       "0                       381.51         974.81          Stayed     Competitor   \n",
       "\n",
       "                    Churn Reason  \n",
       "0  Competitor had better devices  "
      ]
     },
     "execution_count": 67,
     "metadata": {},
     "output_type": "execute_result"
    }
   ],
   "source": [
    "# Let's view our dataset again\n",
    "\n",
    "Customer_data.head(1)"
   ]
  },
  {
   "cell_type": "code",
   "execution_count": null,
   "id": "e1b0dc6f",
   "metadata": {},
   "outputs": [],
   "source": []
  },
  {
   "cell_type": "code",
   "execution_count": 68,
   "id": "38b61b1f",
   "metadata": {},
   "outputs": [],
   "source": [
    "Customer_data.drop(\"City\", axis = 1, inplace = True)"
   ]
  },
  {
   "cell_type": "code",
   "execution_count": 69,
   "id": "9e20070f",
   "metadata": {},
   "outputs": [],
   "source": [
    "Customer_data.drop(\"Offer\", axis = 1, inplace = True)"
   ]
  },
  {
   "cell_type": "code",
   "execution_count": 70,
   "id": "961ba823",
   "metadata": {},
   "outputs": [],
   "source": [
    "Customer_data.drop(\"Churn Reason\", axis = 1, inplace = True)"
   ]
  },
  {
   "cell_type": "code",
   "execution_count": null,
   "id": "e15ab8fb",
   "metadata": {},
   "outputs": [],
   "source": []
  },
  {
   "cell_type": "code",
   "execution_count": 71,
   "id": "a9007ea6",
   "metadata": {},
   "outputs": [
    {
     "data": {
      "text/html": [
       "<div>\n",
       "<style scoped>\n",
       "    .dataframe tbody tr th:only-of-type {\n",
       "        vertical-align: middle;\n",
       "    }\n",
       "\n",
       "    .dataframe tbody tr th {\n",
       "        vertical-align: top;\n",
       "    }\n",
       "\n",
       "    .dataframe thead th {\n",
       "        text-align: right;\n",
       "    }\n",
       "</style>\n",
       "<table border=\"1\" class=\"dataframe\">\n",
       "  <thead>\n",
       "    <tr style=\"text-align: right;\">\n",
       "      <th></th>\n",
       "      <th>Gender</th>\n",
       "      <th>Age</th>\n",
       "      <th>Married</th>\n",
       "      <th>Number of Dependents</th>\n",
       "      <th>Number of Referrals</th>\n",
       "      <th>Tenure in Months</th>\n",
       "      <th>Phone Service</th>\n",
       "      <th>Avg Monthly Long Distance Charges</th>\n",
       "      <th>Multiple Lines</th>\n",
       "      <th>Internet Service</th>\n",
       "      <th>Internet Type</th>\n",
       "      <th>Avg Monthly GB Download</th>\n",
       "      <th>Online Security</th>\n",
       "      <th>Online Backup</th>\n",
       "      <th>Device Protection Plan</th>\n",
       "      <th>Premium Tech Support</th>\n",
       "      <th>Streaming TV</th>\n",
       "      <th>Streaming Movies</th>\n",
       "      <th>Streaming Music</th>\n",
       "      <th>Unlimited Data</th>\n",
       "      <th>Contract</th>\n",
       "      <th>Paperless Billing</th>\n",
       "      <th>Payment Method</th>\n",
       "      <th>Monthly Charge</th>\n",
       "      <th>Total Charges</th>\n",
       "      <th>Total Refunds</th>\n",
       "      <th>Total Extra Data Charges</th>\n",
       "      <th>Total Long Distance Charges</th>\n",
       "      <th>Total Revenue</th>\n",
       "      <th>Customer Status</th>\n",
       "      <th>Churn Category</th>\n",
       "    </tr>\n",
       "  </thead>\n",
       "  <tbody>\n",
       "    <tr>\n",
       "      <th>0</th>\n",
       "      <td>Female</td>\n",
       "      <td>37</td>\n",
       "      <td>Yes</td>\n",
       "      <td>0</td>\n",
       "      <td>2</td>\n",
       "      <td>9</td>\n",
       "      <td>Yes</td>\n",
       "      <td>42.39</td>\n",
       "      <td>No</td>\n",
       "      <td>Yes</td>\n",
       "      <td>Cable</td>\n",
       "      <td>16.0</td>\n",
       "      <td>No</td>\n",
       "      <td>Yes</td>\n",
       "      <td>No</td>\n",
       "      <td>Yes</td>\n",
       "      <td>Yes</td>\n",
       "      <td>No</td>\n",
       "      <td>No</td>\n",
       "      <td>Yes</td>\n",
       "      <td>One Year</td>\n",
       "      <td>Yes</td>\n",
       "      <td>Credit Card</td>\n",
       "      <td>65.6</td>\n",
       "      <td>593.3</td>\n",
       "      <td>0.0</td>\n",
       "      <td>0</td>\n",
       "      <td>381.51</td>\n",
       "      <td>974.81</td>\n",
       "      <td>Stayed</td>\n",
       "      <td>Competitor</td>\n",
       "    </tr>\n",
       "  </tbody>\n",
       "</table>\n",
       "</div>"
      ],
      "text/plain": [
       "   Gender  Age Married  Number of Dependents  Number of Referrals  \\\n",
       "0  Female   37     Yes                     0                    2   \n",
       "\n",
       "   Tenure in Months Phone Service  Avg Monthly Long Distance Charges  \\\n",
       "0                 9           Yes                              42.39   \n",
       "\n",
       "  Multiple Lines Internet Service Internet Type  Avg Monthly GB Download  \\\n",
       "0             No              Yes         Cable                     16.0   \n",
       "\n",
       "  Online Security Online Backup Device Protection Plan Premium Tech Support  \\\n",
       "0              No           Yes                     No                  Yes   \n",
       "\n",
       "  Streaming TV Streaming Movies Streaming Music Unlimited Data  Contract  \\\n",
       "0          Yes               No              No            Yes  One Year   \n",
       "\n",
       "  Paperless Billing Payment Method  Monthly Charge  Total Charges  \\\n",
       "0               Yes    Credit Card            65.6          593.3   \n",
       "\n",
       "   Total Refunds  Total Extra Data Charges  Total Long Distance Charges  \\\n",
       "0            0.0                         0                       381.51   \n",
       "\n",
       "   Total Revenue Customer Status Churn Category  \n",
       "0         974.81          Stayed     Competitor  "
      ]
     },
     "execution_count": 71,
     "metadata": {},
     "output_type": "execute_result"
    }
   ],
   "source": [
    "# Let's check the features that were dropped successfully\n",
    "\n",
    "Customer_data.head(1)"
   ]
  },
  {
   "cell_type": "code",
   "execution_count": null,
   "id": "94b16f22",
   "metadata": {},
   "outputs": [],
   "source": []
  },
  {
   "cell_type": "markdown",
   "id": "4f7061dc",
   "metadata": {},
   "source": [
    "# Label Encoding. The categorical values will be encoded into numerical values."
   ]
  },
  {
   "cell_type": "code",
   "execution_count": null,
   "id": "08d0ed08",
   "metadata": {},
   "outputs": [],
   "source": []
  },
  {
   "cell_type": "code",
   "execution_count": 72,
   "id": "835c25be",
   "metadata": {},
   "outputs": [],
   "source": [
    "# Let's encode the Gender categorical values\n",
    "\n",
    "Customer_data.replace({'Gender': {'Female' :0, 'Male' :1}}, inplace = True)"
   ]
  },
  {
   "cell_type": "code",
   "execution_count": 73,
   "id": "2d249ab1",
   "metadata": {},
   "outputs": [],
   "source": [
    "# Let's encode the Married categorical values\n",
    "\n",
    "Customer_data.replace({'Married': {'Yes' :1, 'No' :0}}, inplace = True)"
   ]
  },
  {
   "cell_type": "code",
   "execution_count": 74,
   "id": "f83c5a45",
   "metadata": {},
   "outputs": [],
   "source": [
    "# Let's encode the Phone Services categorical values\n",
    "\n",
    "Customer_data.replace({'Phone Service': {'Yes' :0, 'No' :1}}, inplace = True)"
   ]
  },
  {
   "cell_type": "code",
   "execution_count": 75,
   "id": "e8b672c2",
   "metadata": {},
   "outputs": [],
   "source": [
    "# Let's encode the Mutliple Lines categorical values\n",
    "\n",
    "Customer_data.replace({'Multiple Lines': {'No' :1, 'Yes' :0}}, inplace = True)"
   ]
  },
  {
   "cell_type": "code",
   "execution_count": 76,
   "id": "424d9c4d",
   "metadata": {},
   "outputs": [],
   "source": [
    "# Let's encode the Internet Service categorical values\n",
    "\n",
    "Customer_data.replace({'Internet Service': {'Yes' :0, 'No' :1}}, inplace = True)"
   ]
  },
  {
   "cell_type": "code",
   "execution_count": 77,
   "id": "f0667536",
   "metadata": {},
   "outputs": [],
   "source": [
    "# Let's encode the Internet Type categorical values\n",
    "\n",
    "Customer_data.replace({'Internet Type': {'Fiber Optic' :1, 'DSL' :2, 'Cable' :3}}, inplace = True)"
   ]
  },
  {
   "cell_type": "code",
   "execution_count": 78,
   "id": "feab8eac",
   "metadata": {},
   "outputs": [],
   "source": [
    "# Let's encode the Online Security categorical values\n",
    "\n",
    "Customer_data.replace({'Online Security': {'No' :0, 'Yes' :1}}, inplace = True)"
   ]
  },
  {
   "cell_type": "code",
   "execution_count": 79,
   "id": "71322e24",
   "metadata": {},
   "outputs": [],
   "source": [
    "# Let's encode the Online Security categorical values\n",
    "\n",
    "Customer_data.replace({'Online Backup': {'Yes' :1, 'No' :0}}, inplace = True)"
   ]
  },
  {
   "cell_type": "code",
   "execution_count": 80,
   "id": "7dc799a9",
   "metadata": {},
   "outputs": [],
   "source": [
    "# Let's encode the Device Protection Plan categorical values\n",
    "\n",
    "Customer_data.replace({'Device Protection Plan': {'No' :0, 'Yes' :1}}, inplace = True)"
   ]
  },
  {
   "cell_type": "code",
   "execution_count": 81,
   "id": "a0d8555e",
   "metadata": {},
   "outputs": [],
   "source": [
    "# Let's encode the Premium Tech Support categorical values\n",
    "\n",
    "Customer_data.replace({'Premium Tech Support': {'No' :1, 'Yes' :0}}, inplace = True)"
   ]
  },
  {
   "cell_type": "code",
   "execution_count": 82,
   "id": "61a439a1",
   "metadata": {},
   "outputs": [],
   "source": [
    "# Let's encode the Streaming TV categorical values\n",
    "\n",
    "Customer_data.replace({'Streaming TV': {'No' :0, 'Yes' :1}}, inplace = True)"
   ]
  },
  {
   "cell_type": "code",
   "execution_count": 83,
   "id": "f2fc4c5f",
   "metadata": {},
   "outputs": [],
   "source": [
    "# Let's encode the Streaming Movies categorical values\n",
    "\n",
    "Customer_data.replace({'Streaming Movies': {'No' :1, 'Yes' :0}}, inplace = True)"
   ]
  },
  {
   "cell_type": "code",
   "execution_count": 84,
   "id": "97b46852",
   "metadata": {},
   "outputs": [],
   "source": [
    "# Let's encode the Streaming Music categorical values\n",
    "\n",
    "Customer_data.replace({'Streaming Music': {'No' :0, 'Yes' :1}}, inplace = True)"
   ]
  },
  {
   "cell_type": "code",
   "execution_count": 85,
   "id": "9b5ac627",
   "metadata": {},
   "outputs": [],
   "source": [
    "# Let's encode the Unlimited Data categorical values\n",
    "\n",
    "Customer_data.replace({'Unlimited Data': {'No' :1, 'Yes' :0}}, inplace = True)"
   ]
  },
  {
   "cell_type": "code",
   "execution_count": 86,
   "id": "95956c96",
   "metadata": {},
   "outputs": [],
   "source": [
    "# Let's encode the Contract categorical values\n",
    "\n",
    "Customer_data.replace({'Contract': {'Month-to-Month' :0, 'Two Year' :1, 'One Year' :2}}, inplace = True)"
   ]
  },
  {
   "cell_type": "code",
   "execution_count": 87,
   "id": "998e1f01",
   "metadata": {},
   "outputs": [],
   "source": [
    "# Let's encode the Paperless Billing categorical values\n",
    "\n",
    "Customer_data.replace({'Paperless Billing': {'Yes' :1, 'No' :2}}, inplace = True)"
   ]
  },
  {
   "cell_type": "code",
   "execution_count": 88,
   "id": "d0f22a2b",
   "metadata": {},
   "outputs": [],
   "source": [
    "# Let's encode the Payment Method categorical values\n",
    "\n",
    "Customer_data.replace({'Payment Method': {'Bank Withdrawal' :0, 'Credit Card' :1, 'Mailed Check' :2}}, inplace = True)"
   ]
  },
  {
   "cell_type": "code",
   "execution_count": 89,
   "id": "5ffa020a",
   "metadata": {},
   "outputs": [],
   "source": [
    "# Let's encode the Customer Status categorical values\n",
    "\n",
    "Customer_data.replace({'Customer Status': {'Stayed' :0, 'Churned' :1, 'Joined' :2}}, inplace = True)"
   ]
  },
  {
   "cell_type": "code",
   "execution_count": 90,
   "id": "46dada1a",
   "metadata": {},
   "outputs": [],
   "source": [
    "# Let's encode the Churn Category categorical values\n",
    "\n",
    "Customer_data.replace({'Churn Category': {'Competitor' :0, 'Dissatisfaction' :1, 'Attitude' :2,\n",
    "                                         'Price' :3, 'Other' :4}}, inplace = True)"
   ]
  },
  {
   "cell_type": "code",
   "execution_count": null,
   "id": "f1a22d4c",
   "metadata": {},
   "outputs": [],
   "source": []
  },
  {
   "cell_type": "code",
   "execution_count": 91,
   "id": "b8b814c8",
   "metadata": {},
   "outputs": [
    {
     "data": {
      "text/html": [
       "<div>\n",
       "<style scoped>\n",
       "    .dataframe tbody tr th:only-of-type {\n",
       "        vertical-align: middle;\n",
       "    }\n",
       "\n",
       "    .dataframe tbody tr th {\n",
       "        vertical-align: top;\n",
       "    }\n",
       "\n",
       "    .dataframe thead th {\n",
       "        text-align: right;\n",
       "    }\n",
       "</style>\n",
       "<table border=\"1\" class=\"dataframe\">\n",
       "  <thead>\n",
       "    <tr style=\"text-align: right;\">\n",
       "      <th></th>\n",
       "      <th>Gender</th>\n",
       "      <th>Age</th>\n",
       "      <th>Married</th>\n",
       "      <th>Number of Dependents</th>\n",
       "      <th>Number of Referrals</th>\n",
       "      <th>Tenure in Months</th>\n",
       "      <th>Phone Service</th>\n",
       "      <th>Avg Monthly Long Distance Charges</th>\n",
       "      <th>Multiple Lines</th>\n",
       "      <th>Internet Service</th>\n",
       "      <th>Internet Type</th>\n",
       "      <th>Avg Monthly GB Download</th>\n",
       "      <th>Online Security</th>\n",
       "      <th>Online Backup</th>\n",
       "      <th>Device Protection Plan</th>\n",
       "      <th>Premium Tech Support</th>\n",
       "      <th>Streaming TV</th>\n",
       "      <th>Streaming Movies</th>\n",
       "      <th>Streaming Music</th>\n",
       "      <th>Unlimited Data</th>\n",
       "      <th>Contract</th>\n",
       "      <th>Paperless Billing</th>\n",
       "      <th>Payment Method</th>\n",
       "      <th>Monthly Charge</th>\n",
       "      <th>Total Charges</th>\n",
       "      <th>Total Refunds</th>\n",
       "      <th>Total Extra Data Charges</th>\n",
       "      <th>Total Long Distance Charges</th>\n",
       "      <th>Total Revenue</th>\n",
       "      <th>Customer Status</th>\n",
       "      <th>Churn Category</th>\n",
       "    </tr>\n",
       "  </thead>\n",
       "  <tbody>\n",
       "    <tr>\n",
       "      <th>0</th>\n",
       "      <td>0</td>\n",
       "      <td>37</td>\n",
       "      <td>1</td>\n",
       "      <td>0</td>\n",
       "      <td>2</td>\n",
       "      <td>9</td>\n",
       "      <td>0</td>\n",
       "      <td>42.39</td>\n",
       "      <td>1</td>\n",
       "      <td>0</td>\n",
       "      <td>3</td>\n",
       "      <td>16.0</td>\n",
       "      <td>0</td>\n",
       "      <td>1</td>\n",
       "      <td>0</td>\n",
       "      <td>0</td>\n",
       "      <td>1</td>\n",
       "      <td>1</td>\n",
       "      <td>0</td>\n",
       "      <td>0</td>\n",
       "      <td>2</td>\n",
       "      <td>1</td>\n",
       "      <td>1</td>\n",
       "      <td>65.6</td>\n",
       "      <td>593.30</td>\n",
       "      <td>0.00</td>\n",
       "      <td>0</td>\n",
       "      <td>381.51</td>\n",
       "      <td>974.81</td>\n",
       "      <td>0</td>\n",
       "      <td>0</td>\n",
       "    </tr>\n",
       "    <tr>\n",
       "      <th>1</th>\n",
       "      <td>1</td>\n",
       "      <td>46</td>\n",
       "      <td>0</td>\n",
       "      <td>0</td>\n",
       "      <td>0</td>\n",
       "      <td>9</td>\n",
       "      <td>0</td>\n",
       "      <td>10.69</td>\n",
       "      <td>0</td>\n",
       "      <td>0</td>\n",
       "      <td>3</td>\n",
       "      <td>10.0</td>\n",
       "      <td>0</td>\n",
       "      <td>0</td>\n",
       "      <td>0</td>\n",
       "      <td>1</td>\n",
       "      <td>0</td>\n",
       "      <td>0</td>\n",
       "      <td>1</td>\n",
       "      <td>1</td>\n",
       "      <td>0</td>\n",
       "      <td>2</td>\n",
       "      <td>1</td>\n",
       "      <td>-4.0</td>\n",
       "      <td>542.40</td>\n",
       "      <td>38.33</td>\n",
       "      <td>10</td>\n",
       "      <td>96.21</td>\n",
       "      <td>610.28</td>\n",
       "      <td>0</td>\n",
       "      <td>0</td>\n",
       "    </tr>\n",
       "    <tr>\n",
       "      <th>2</th>\n",
       "      <td>1</td>\n",
       "      <td>50</td>\n",
       "      <td>0</td>\n",
       "      <td>0</td>\n",
       "      <td>0</td>\n",
       "      <td>4</td>\n",
       "      <td>0</td>\n",
       "      <td>33.65</td>\n",
       "      <td>1</td>\n",
       "      <td>0</td>\n",
       "      <td>1</td>\n",
       "      <td>30.0</td>\n",
       "      <td>0</td>\n",
       "      <td>0</td>\n",
       "      <td>1</td>\n",
       "      <td>1</td>\n",
       "      <td>0</td>\n",
       "      <td>1</td>\n",
       "      <td>0</td>\n",
       "      <td>0</td>\n",
       "      <td>0</td>\n",
       "      <td>1</td>\n",
       "      <td>0</td>\n",
       "      <td>73.9</td>\n",
       "      <td>280.85</td>\n",
       "      <td>0.00</td>\n",
       "      <td>0</td>\n",
       "      <td>134.60</td>\n",
       "      <td>415.45</td>\n",
       "      <td>1</td>\n",
       "      <td>0</td>\n",
       "    </tr>\n",
       "    <tr>\n",
       "      <th>3</th>\n",
       "      <td>1</td>\n",
       "      <td>78</td>\n",
       "      <td>1</td>\n",
       "      <td>0</td>\n",
       "      <td>1</td>\n",
       "      <td>13</td>\n",
       "      <td>0</td>\n",
       "      <td>27.82</td>\n",
       "      <td>1</td>\n",
       "      <td>0</td>\n",
       "      <td>1</td>\n",
       "      <td>4.0</td>\n",
       "      <td>0</td>\n",
       "      <td>1</td>\n",
       "      <td>1</td>\n",
       "      <td>1</td>\n",
       "      <td>1</td>\n",
       "      <td>0</td>\n",
       "      <td>0</td>\n",
       "      <td>0</td>\n",
       "      <td>0</td>\n",
       "      <td>1</td>\n",
       "      <td>0</td>\n",
       "      <td>98.0</td>\n",
       "      <td>1237.85</td>\n",
       "      <td>0.00</td>\n",
       "      <td>0</td>\n",
       "      <td>361.66</td>\n",
       "      <td>1599.51</td>\n",
       "      <td>1</td>\n",
       "      <td>1</td>\n",
       "    </tr>\n",
       "    <tr>\n",
       "      <th>4</th>\n",
       "      <td>0</td>\n",
       "      <td>75</td>\n",
       "      <td>1</td>\n",
       "      <td>0</td>\n",
       "      <td>3</td>\n",
       "      <td>3</td>\n",
       "      <td>0</td>\n",
       "      <td>7.38</td>\n",
       "      <td>1</td>\n",
       "      <td>0</td>\n",
       "      <td>1</td>\n",
       "      <td>11.0</td>\n",
       "      <td>0</td>\n",
       "      <td>0</td>\n",
       "      <td>0</td>\n",
       "      <td>0</td>\n",
       "      <td>1</td>\n",
       "      <td>1</td>\n",
       "      <td>0</td>\n",
       "      <td>0</td>\n",
       "      <td>0</td>\n",
       "      <td>1</td>\n",
       "      <td>1</td>\n",
       "      <td>83.9</td>\n",
       "      <td>267.40</td>\n",
       "      <td>0.00</td>\n",
       "      <td>0</td>\n",
       "      <td>22.14</td>\n",
       "      <td>289.54</td>\n",
       "      <td>1</td>\n",
       "      <td>1</td>\n",
       "    </tr>\n",
       "  </tbody>\n",
       "</table>\n",
       "</div>"
      ],
      "text/plain": [
       "   Gender  Age  Married  Number of Dependents  Number of Referrals  \\\n",
       "0       0   37        1                     0                    2   \n",
       "1       1   46        0                     0                    0   \n",
       "2       1   50        0                     0                    0   \n",
       "3       1   78        1                     0                    1   \n",
       "4       0   75        1                     0                    3   \n",
       "\n",
       "   Tenure in Months  Phone Service  Avg Monthly Long Distance Charges  \\\n",
       "0                 9              0                              42.39   \n",
       "1                 9              0                              10.69   \n",
       "2                 4              0                              33.65   \n",
       "3                13              0                              27.82   \n",
       "4                 3              0                               7.38   \n",
       "\n",
       "   Multiple Lines  Internet Service  Internet Type  Avg Monthly GB Download  \\\n",
       "0               1                 0              3                     16.0   \n",
       "1               0                 0              3                     10.0   \n",
       "2               1                 0              1                     30.0   \n",
       "3               1                 0              1                      4.0   \n",
       "4               1                 0              1                     11.0   \n",
       "\n",
       "   Online Security  Online Backup  Device Protection Plan  \\\n",
       "0                0              1                       0   \n",
       "1                0              0                       0   \n",
       "2                0              0                       1   \n",
       "3                0              1                       1   \n",
       "4                0              0                       0   \n",
       "\n",
       "   Premium Tech Support  Streaming TV  Streaming Movies  Streaming Music  \\\n",
       "0                     0             1                 1                0   \n",
       "1                     1             0                 0                1   \n",
       "2                     1             0                 1                0   \n",
       "3                     1             1                 0                0   \n",
       "4                     0             1                 1                0   \n",
       "\n",
       "   Unlimited Data  Contract  Paperless Billing  Payment Method  \\\n",
       "0               0         2                  1               1   \n",
       "1               1         0                  2               1   \n",
       "2               0         0                  1               0   \n",
       "3               0         0                  1               0   \n",
       "4               0         0                  1               1   \n",
       "\n",
       "   Monthly Charge  Total Charges  Total Refunds  Total Extra Data Charges  \\\n",
       "0            65.6         593.30           0.00                         0   \n",
       "1            -4.0         542.40          38.33                        10   \n",
       "2            73.9         280.85           0.00                         0   \n",
       "3            98.0        1237.85           0.00                         0   \n",
       "4            83.9         267.40           0.00                         0   \n",
       "\n",
       "   Total Long Distance Charges  Total Revenue  Customer Status  Churn Category  \n",
       "0                       381.51         974.81                0               0  \n",
       "1                        96.21         610.28                0               0  \n",
       "2                       134.60         415.45                1               0  \n",
       "3                       361.66        1599.51                1               1  \n",
       "4                        22.14         289.54                1               1  "
      ]
     },
     "execution_count": 91,
     "metadata": {},
     "output_type": "execute_result"
    }
   ],
   "source": [
    "# Let's check if the categorical features were successfully encoded\n",
    "\n",
    "Customer_data.head()"
   ]
  },
  {
   "cell_type": "code",
   "execution_count": null,
   "id": "dcb76a9b",
   "metadata": {},
   "outputs": [],
   "source": []
  },
  {
   "cell_type": "markdown",
   "id": "7c8bbb12",
   "metadata": {},
   "source": [
    "# Store Feature Variables in X and Target in Vector y"
   ]
  },
  {
   "cell_type": "code",
   "execution_count": null,
   "id": "7105c87d",
   "metadata": {},
   "outputs": [],
   "source": []
  },
  {
   "cell_type": "code",
   "execution_count": 92,
   "id": "8e4141f7",
   "metadata": {},
   "outputs": [],
   "source": [
    "X = Customer_data.drop('Customer Status', axis = 1)\n",
    "y = Customer_data['Customer Status']"
   ]
  },
  {
   "cell_type": "code",
   "execution_count": 93,
   "id": "d3f48df2",
   "metadata": {},
   "outputs": [
    {
     "name": "stdout",
     "output_type": "stream",
     "text": [
      "      Gender  Age  Married  Number of Dependents  Number of Referrals  \\\n",
      "0          0   37        1                     0                    2   \n",
      "1          1   46        0                     0                    0   \n",
      "2          1   50        0                     0                    0   \n",
      "3          1   78        1                     0                    1   \n",
      "4          0   75        1                     0                    3   \n",
      "...      ...  ...      ...                   ...                  ...   \n",
      "7038       0   20        0                     0                    0   \n",
      "7039       1   40        1                     0                    1   \n",
      "7040       1   22        0                     0                    0   \n",
      "7041       1   21        1                     0                    5   \n",
      "7042       1   36        1                     0                    1   \n",
      "\n",
      "      Tenure in Months  Phone Service  Avg Monthly Long Distance Charges  \\\n",
      "0                    9              0                              42.39   \n",
      "1                    9              0                              10.69   \n",
      "2                    4              0                              33.65   \n",
      "3                   13              0                              27.82   \n",
      "4                    3              0                               7.38   \n",
      "...                ...            ...                                ...   \n",
      "7038                13              0                              46.68   \n",
      "7039                22              0                              16.20   \n",
      "7040                 2              0                              18.62   \n",
      "7041                67              0                               2.12   \n",
      "7042                63              1                              25.69   \n",
      "\n",
      "      Multiple Lines  Internet Service  Internet Type  \\\n",
      "0                  1                 0              3   \n",
      "1                  0                 0              3   \n",
      "2                  1                 0              1   \n",
      "3                  1                 0              1   \n",
      "4                  1                 0              1   \n",
      "...              ...               ...            ...   \n",
      "7038               1                 0              2   \n",
      "7039               0                 0              1   \n",
      "7040               1                 0              2   \n",
      "7041               1                 0              3   \n",
      "7042               1                 0              3   \n",
      "\n",
      "      Avg Monthly GB Download  Online Security  Online Backup  \\\n",
      "0                        16.0                0              1   \n",
      "1                        10.0                0              0   \n",
      "2                        30.0                0              0   \n",
      "3                         4.0                0              1   \n",
      "4                        11.0                0              0   \n",
      "...                       ...              ...            ...   \n",
      "7038                     59.0                1              0   \n",
      "7039                     17.0                0              0   \n",
      "7040                     51.0                0              1   \n",
      "7041                     58.0                1              0   \n",
      "7042                      5.0                1              1   \n",
      "\n",
      "      Device Protection Plan  Premium Tech Support  Streaming TV  \\\n",
      "0                          0                     0             1   \n",
      "1                          0                     1             0   \n",
      "2                          1                     1             0   \n",
      "3                          1                     1             1   \n",
      "4                          0                     0             1   \n",
      "...                      ...                   ...           ...   \n",
      "7038                       0                     0             0   \n",
      "7039                       0                     1             0   \n",
      "7040                       0                     1             0   \n",
      "7041                       1                     0             0   \n",
      "7042                       1                     1             1   \n",
      "\n",
      "      Streaming Movies  Streaming Music  Unlimited Data  Contract  \\\n",
      "0                    1                0               0         2   \n",
      "1                    0                1               1         0   \n",
      "2                    1                0               0         0   \n",
      "3                    0                0               0         0   \n",
      "4                    1                0               0         0   \n",
      "...                ...              ...             ...       ...   \n",
      "7038                 1                1               0         2   \n",
      "7039                 0                1               0         0   \n",
      "7040                 1                0               0         0   \n",
      "7041                 0                1               0         1   \n",
      "7042                 0                1               0         1   \n",
      "\n",
      "      Paperless Billing  Payment Method  Monthly Charge  Total Charges  \\\n",
      "0                     1               1           65.60         593.30   \n",
      "1                     2               1           -4.00         542.40   \n",
      "2                     1               0           73.90         280.85   \n",
      "3                     1               0           98.00        1237.85   \n",
      "4                     1               1           83.90         267.40   \n",
      "...                 ...             ...             ...            ...   \n",
      "7038                  2               1           55.15         742.90   \n",
      "7039                  1               0           85.10        1873.70   \n",
      "7040                  1               1           50.30          92.75   \n",
      "7041                  2               1           67.85        4627.65   \n",
      "7042                  2               0           59.00        3707.60   \n",
      "\n",
      "      Total Refunds  Total Extra Data Charges  Total Long Distance Charges  \\\n",
      "0              0.00                         0                       381.51   \n",
      "1             38.33                        10                        96.21   \n",
      "2              0.00                         0                       134.60   \n",
      "3              0.00                         0                       361.66   \n",
      "4              0.00                         0                        22.14   \n",
      "...             ...                       ...                          ...   \n",
      "7038           0.00                         0                       606.84   \n",
      "7039           0.00                         0                       356.40   \n",
      "7040           0.00                         0                        37.24   \n",
      "7041           0.00                         0                       142.04   \n",
      "7042           0.00                         0                         0.00   \n",
      "\n",
      "      Total Revenue  Churn Category  \n",
      "0            974.81               0  \n",
      "1            610.28               0  \n",
      "2            415.45               0  \n",
      "3           1599.51               1  \n",
      "4            289.54               1  \n",
      "...             ...             ...  \n",
      "7038        1349.74               0  \n",
      "7039        2230.10               1  \n",
      "7040         129.99               0  \n",
      "7041        4769.69               0  \n",
      "7042        3707.60               0  \n",
      "\n",
      "[7043 rows x 30 columns]\n"
     ]
    }
   ],
   "source": [
    "# Let's view the X values\n",
    "\n",
    "print(X)"
   ]
  },
  {
   "cell_type": "code",
   "execution_count": 94,
   "id": "59a58e9d",
   "metadata": {},
   "outputs": [
    {
     "name": "stdout",
     "output_type": "stream",
     "text": [
      "0       0\n",
      "1       0\n",
      "2       1\n",
      "3       1\n",
      "4       1\n",
      "       ..\n",
      "7038    0\n",
      "7039    1\n",
      "7040    2\n",
      "7041    0\n",
      "7042    0\n",
      "Name: Customer Status, Length: 7043, dtype: int64\n"
     ]
    }
   ],
   "source": [
    "# Let's also view the y values\n",
    "\n",
    "print(y)"
   ]
  },
  {
   "cell_type": "code",
   "execution_count": null,
   "id": "04edc0f7",
   "metadata": {},
   "outputs": [],
   "source": []
  },
  {
   "cell_type": "code",
   "execution_count": 95,
   "id": "03c7d5a6",
   "metadata": {},
   "outputs": [],
   "source": [
    "# import necessary libraries \n",
    "\n",
    "from sklearn.model_selection import train_test_split\n",
    "from sklearn.preprocessing import StandardScaler\n",
    "from sklearn.ensemble import GradientBoostingClassifier\n",
    "from sklearn.metrics import accuracy_score"
   ]
  },
  {
   "cell_type": "code",
   "execution_count": 96,
   "id": "a026c6a5",
   "metadata": {},
   "outputs": [
    {
     "name": "stdout",
     "output_type": "stream",
     "text": [
      "(7043, 30) (5634, 30) (1409, 30)\n"
     ]
    }
   ],
   "source": [
    "# Split the dataset into training and testing sets\n",
    "X_train, X_test, y_train, y_test = train_test_split(X, y, test_size=0.2, random_state=42)\n",
    "\n",
    "# let's check the shapes of x_train and x_test\n",
    "print(X.shape, X_train.shape, X_test.shape)"
   ]
  },
  {
   "cell_type": "code",
   "execution_count": 97,
   "id": "15a61cb5",
   "metadata": {},
   "outputs": [],
   "source": [
    "# let's standardized the dataset\n",
    "Sc = StandardScaler()\n",
    "X_train = Sc.fit_transform(X_train)\n",
    "X_test = Sc.transform(X_test)"
   ]
  },
  {
   "cell_type": "code",
   "execution_count": 98,
   "id": "2b872b96",
   "metadata": {},
   "outputs": [
    {
     "data": {
      "text/plain": [
       "array([[ 0.98485028, -0.50373203,  1.0255299 , ..., -0.76409256,\n",
       "        -0.93298132, -0.3663468 ],\n",
       "       [ 0.98485028, -1.45312298, -0.97510565, ...,  0.97507554,\n",
       "         0.55431713, -0.3663468 ],\n",
       "       [-1.01538277,  0.38632199,  1.0255299 , ...,  1.9706567 ,\n",
       "         1.45066647, -0.3663468 ],\n",
       "       ...,\n",
       "       [-1.01538277, -0.8004167 , -0.97510565, ..., -0.85141334,\n",
       "        -1.01120665, -0.3663468 ],\n",
       "       [ 0.98485028, -0.68174283, -0.97510565, ..., -0.86020875,\n",
       "        -1.04086744, -0.3663468 ],\n",
       "       [ 0.98485028, -0.26638429,  1.0255299 , ...,  1.57813538,\n",
       "         0.10070667, -0.3663468 ]])"
      ]
     },
     "execution_count": 98,
     "metadata": {},
     "output_type": "execute_result"
    }
   ],
   "source": [
    "X_train"
   ]
  },
  {
   "cell_type": "code",
   "execution_count": 99,
   "id": "a005b159",
   "metadata": {},
   "outputs": [
    {
     "data": {
      "text/plain": [
       "array([[ 0.98485028,  0.20831119, -0.97510565, ..., -0.3217189 ,\n",
       "        -0.67836021, -0.3663468 ],\n",
       "       [ 0.98485028, -0.38505816,  1.0255299 , ...,  0.10411941,\n",
       "         1.96209203, -0.3663468 ],\n",
       "       [-1.01538277, -1.21577524,  1.0255299 , ..., -0.09024731,\n",
       "         1.36488796, -0.3663468 ],\n",
       "       ...,\n",
       "       [ 0.98485028, -0.50373203, -0.97510565, ..., -0.84854018,\n",
       "        -1.01988447,  1.89805018],\n",
       "       [-1.01538277,  0.32698506, -0.97510565, ..., -0.88124735,\n",
       "        -0.23132754, -0.3663468 ],\n",
       "       [-1.01538277,  1.03902827, -0.97510565, ...,  1.09434123,\n",
       "         0.09257035, -0.3663468 ]])"
      ]
     },
     "execution_count": 99,
     "metadata": {},
     "output_type": "execute_result"
    }
   ],
   "source": [
    "X_test"
   ]
  },
  {
   "cell_type": "code",
   "execution_count": 101,
   "id": "a603754e",
   "metadata": {},
   "outputs": [
    {
     "name": "stdout",
     "output_type": "stream",
     "text": [
      "Accuracy of Model: 0.9063165365507452\n"
     ]
    }
   ],
   "source": [
    "# Create a Gradient Boosting Model\n",
    "gbm = GradientBoostingClassifier()\n",
    "\n",
    "# Fit the model to the training data\n",
    "gbm.fit(X_train, y_train)\n",
    "\n",
    "# Make predictions on the test data\n",
    "y_pred = gbm.predict(X_test)\n",
    "\n",
    "# Calculate and print the accuracy of the model\n",
    "accuracy = accuracy_score(y_test, y_pred)\n",
    "print(f\"Accuracy of Model: {accuracy}\")"
   ]
  },
  {
   "cell_type": "code",
   "execution_count": null,
   "id": "9a2f83f6",
   "metadata": {},
   "outputs": [],
   "source": []
  },
  {
   "cell_type": "markdown",
   "id": "64a3252c",
   "metadata": {},
   "source": [
    "# HYPERPARAMETER TUNING: GRID SEARCH"
   ]
  },
  {
   "cell_type": "code",
   "execution_count": null,
   "id": "74b471be",
   "metadata": {},
   "outputs": [],
   "source": []
  },
  {
   "cell_type": "code",
   "execution_count": 118,
   "id": "6fb6eb43",
   "metadata": {},
   "outputs": [],
   "source": [
    "from sklearn.model_selection import GridSearchCV\n",
    "\n",
    "# Define a range of hyperparameters to search through\n",
    "param_grid = {\n",
    "    'n_estimators': [50, 100],\n",
    "    'learning_rate': [0.01, 0.1],\n",
    "    'max_depth': [3, 4]\n",
    "}\n",
    "\n",
    "# Create a Grid Search CV object\n",
    "grid_search = GridSearchCV(estimator=GradientBoostingClassifier(),\n",
    "                           param_grid=param_grid,\n",
    "                           cv=3, verbose=2)"
   ]
  },
  {
   "cell_type": "code",
   "execution_count": 119,
   "id": "2c438d92",
   "metadata": {},
   "outputs": [
    {
     "name": "stdout",
     "output_type": "stream",
     "text": [
      "Fitting 3 folds for each of 8 candidates, totalling 24 fits\n",
      "[CV] END ...learning_rate=0.01, max_depth=3, n_estimators=50; total time=   1.7s\n",
      "[CV] END ...learning_rate=0.01, max_depth=3, n_estimators=50; total time=   1.6s\n",
      "[CV] END ...learning_rate=0.01, max_depth=3, n_estimators=50; total time=   1.6s\n",
      "[CV] END ..learning_rate=0.01, max_depth=3, n_estimators=100; total time=   5.4s\n",
      "[CV] END ..learning_rate=0.01, max_depth=3, n_estimators=100; total time=   8.4s\n",
      "[CV] END ..learning_rate=0.01, max_depth=3, n_estimators=100; total time=   7.7s\n",
      "[CV] END ...learning_rate=0.01, max_depth=4, n_estimators=50; total time=   3.3s\n",
      "[CV] END ...learning_rate=0.01, max_depth=4, n_estimators=50; total time=   2.0s\n",
      "[CV] END ...learning_rate=0.01, max_depth=4, n_estimators=50; total time=   2.0s\n",
      "[CV] END ..learning_rate=0.01, max_depth=4, n_estimators=100; total time=   4.1s\n",
      "[CV] END ..learning_rate=0.01, max_depth=4, n_estimators=100; total time=   5.0s\n",
      "[CV] END ..learning_rate=0.01, max_depth=4, n_estimators=100; total time=   4.2s\n",
      "[CV] END ....learning_rate=0.1, max_depth=3, n_estimators=50; total time=   1.6s\n",
      "[CV] END ....learning_rate=0.1, max_depth=3, n_estimators=50; total time=   1.6s\n",
      "[CV] END ....learning_rate=0.1, max_depth=3, n_estimators=50; total time=   1.6s\n",
      "[CV] END ...learning_rate=0.1, max_depth=3, n_estimators=100; total time=   4.1s\n",
      "[CV] END ...learning_rate=0.1, max_depth=3, n_estimators=100; total time=   3.4s\n",
      "[CV] END ...learning_rate=0.1, max_depth=3, n_estimators=100; total time=   3.5s\n",
      "[CV] END ....learning_rate=0.1, max_depth=4, n_estimators=50; total time=   3.9s\n",
      "[CV] END ....learning_rate=0.1, max_depth=4, n_estimators=50; total time=   3.4s\n",
      "[CV] END ....learning_rate=0.1, max_depth=4, n_estimators=50; total time=   4.7s\n",
      "[CV] END ...learning_rate=0.1, max_depth=4, n_estimators=100; total time=   8.1s\n",
      "[CV] END ...learning_rate=0.1, max_depth=4, n_estimators=100; total time=   7.1s\n",
      "[CV] END ...learning_rate=0.1, max_depth=4, n_estimators=100; total time=   5.4s\n"
     ]
    },
    {
     "data": {
      "text/plain": [
       "GridSearchCV(cv=3, estimator=GradientBoostingClassifier(),\n",
       "             param_grid={'learning_rate': [0.01, 0.1], 'max_depth': [3, 4],\n",
       "                         'n_estimators': [50, 100]},\n",
       "             verbose=2)"
      ]
     },
     "execution_count": 119,
     "metadata": {},
     "output_type": "execute_result"
    }
   ],
   "source": [
    "# Fit the grid search to the training data\n",
    "grid_search.fit(X_train, y_train)"
   ]
  },
  {
   "cell_type": "code",
   "execution_count": 120,
   "id": "72c587eb",
   "metadata": {},
   "outputs": [
    {
     "name": "stdout",
     "output_type": "stream",
     "text": [
      "Best Hyperparameters from Grid Search: {'learning_rate': 0.1, 'max_depth': 3, 'n_estimators': 50}\n"
     ]
    }
   ],
   "source": [
    "# Get the best hyperparameters from the grid search\n",
    "best_params = grid_search.best_params_\n",
    "print(f\"Best Hyperparameters from Grid Search: {best_params}\")"
   ]
  },
  {
   "cell_type": "code",
   "execution_count": 121,
   "id": "dead6350",
   "metadata": {},
   "outputs": [
    {
     "data": {
      "text/plain": [
       "GradientBoostingClassifier(n_estimators=50)"
      ]
     },
     "execution_count": 121,
     "metadata": {},
     "output_type": "execute_result"
    }
   ],
   "source": [
    "# Fit the model with the best hyperparameters to the training data\n",
    "best_gbm = grid_search.best_estimator_\n",
    "best_gbm.fit(X_train, y_train)"
   ]
  },
  {
   "cell_type": "code",
   "execution_count": 122,
   "id": "ce8c17bd",
   "metadata": {},
   "outputs": [],
   "source": [
    "# Make predictions on the test data using the best model\n",
    "y_pred_grid = best_gbm.predict(X_test)"
   ]
  },
  {
   "cell_type": "code",
   "execution_count": 123,
   "id": "69aa317e",
   "metadata": {},
   "outputs": [
    {
     "name": "stdout",
     "output_type": "stream",
     "text": [
      "Accuracy after Grid Search: 0.9041873669268985\n"
     ]
    }
   ],
   "source": [
    "# Calculate and print the accuracy of the tuned model\n",
    "accuracy_grid = accuracy_score(y_test, y_pred_grid)\n",
    "print(f\"Accuracy after Grid Search: {accuracy_grid}\")"
   ]
  },
  {
   "cell_type": "code",
   "execution_count": null,
   "id": "fbde2adb",
   "metadata": {},
   "outputs": [],
   "source": []
  },
  {
   "cell_type": "markdown",
   "id": "acfc40ef",
   "metadata": {},
   "source": [
    "# HYPERPARAMETER TUNING: RANDOM SEARCH"
   ]
  },
  {
   "cell_type": "code",
   "execution_count": null,
   "id": "476a4dd5",
   "metadata": {},
   "outputs": [],
   "source": []
  },
  {
   "cell_type": "code",
   "execution_count": 124,
   "id": "5e3db23a",
   "metadata": {},
   "outputs": [],
   "source": [
    "from sklearn.model_selection import RandomizedSearchCV\n",
    "import numpy as np\n",
    "\n",
    "# Define distributions for hyperparameters\n",
    "param_dist = {\n",
    "    'n_estimators': np.arange(50, 200, 10),\n",
    "    'learning_rate': np.linspace(0.01, 0.2, 20),\n",
    "    'max_depth': np.arange(3, 10),\n",
    "}\n",
    "\n",
    "# Create a RandomizedSearchCV object\n",
    "random_search = RandomizedSearchCV(estimator=GradientBoostingClassifier(),\n",
    "                                   param_distributions=param_dist,\n",
    "                                   n_iter=20,\n",
    "                                   cv=3,\n",
    "                                   verbose=2,\n",
    "                                   random_state=42)"
   ]
  },
  {
   "cell_type": "code",
   "execution_count": 125,
   "id": "a8c45a32",
   "metadata": {},
   "outputs": [
    {
     "name": "stdout",
     "output_type": "stream",
     "text": [
      "Fitting 3 folds for each of 20 candidates, totalling 60 fits\n",
      "[CV] END ..learning_rate=0.09, max_depth=4, n_estimators=100; total time=   4.3s\n",
      "[CV] END ..learning_rate=0.09, max_depth=4, n_estimators=100; total time=   5.0s\n",
      "[CV] END ..learning_rate=0.09, max_depth=4, n_estimators=100; total time=   8.3s\n",
      "[CV] END ...learning_rate=0.13, max_depth=5, n_estimators=90; total time=  10.9s\n",
      "[CV] END ...learning_rate=0.13, max_depth=5, n_estimators=90; total time=   6.1s\n",
      "[CV] END ...learning_rate=0.13, max_depth=5, n_estimators=90; total time=   4.7s\n",
      "[CV] END ..learning_rate=0.11, max_depth=8, n_estimators=100; total time=  10.2s\n",
      "[CV] END ..learning_rate=0.11, max_depth=8, n_estimators=100; total time=  10.1s\n",
      "[CV] END ..learning_rate=0.11, max_depth=8, n_estimators=100; total time=  10.5s\n",
      "[CV] END ...learning_rate=0.11, max_depth=6, n_estimators=50; total time=   5.4s\n",
      "[CV] END ...learning_rate=0.11, max_depth=6, n_estimators=50; total time=   6.8s\n",
      "[CV] END ...learning_rate=0.11, max_depth=6, n_estimators=50; total time=   5.2s\n",
      "[CV] END ...learning_rate=0.16, max_depth=7, n_estimators=80; total time=   9.1s\n",
      "[CV] END ...learning_rate=0.16, max_depth=7, n_estimators=80; total time=   7.6s\n",
      "[CV] END ...learning_rate=0.16, max_depth=7, n_estimators=80; total time=   8.3s\n",
      "[CV] END ...learning_rate=0.05, max_depth=6, n_estimators=60; total time=   4.9s\n",
      "[CV] END ...learning_rate=0.05, max_depth=6, n_estimators=60; total time=   5.5s\n",
      "[CV] END ...learning_rate=0.05, max_depth=6, n_estimators=60; total time=   5.5s\n",
      "[CV] END ..learning_rate=0.12, max_depth=8, n_estimators=130; total time=  22.5s\n",
      "[CV] END ..learning_rate=0.12, max_depth=8, n_estimators=130; total time=  12.7s\n",
      "[CV] END ..learning_rate=0.12, max_depth=8, n_estimators=130; total time=  12.8s\n",
      "[CV] END ...learning_rate=0.04, max_depth=4, n_estimators=50; total time=   2.1s\n",
      "[CV] END ...learning_rate=0.04, max_depth=4, n_estimators=50; total time=   2.1s\n",
      "[CV] END ...learning_rate=0.04, max_depth=4, n_estimators=50; total time=   2.1s\n",
      "[CV] END learning_rate=0.15000000000000002, max_depth=3, n_estimators=170; total time=   9.5s\n",
      "[CV] END learning_rate=0.15000000000000002, max_depth=3, n_estimators=170; total time=  11.1s\n",
      "[CV] END learning_rate=0.15000000000000002, max_depth=3, n_estimators=170; total time=   8.5s\n",
      "[CV] END ..learning_rate=0.02, max_depth=4, n_estimators=150; total time=   9.0s\n",
      "[CV] END ..learning_rate=0.02, max_depth=4, n_estimators=150; total time=   8.2s\n",
      "[CV] END ..learning_rate=0.02, max_depth=4, n_estimators=150; total time=   8.8s\n",
      "[CV] END ..learning_rate=0.17, max_depth=3, n_estimators=100; total time=   4.3s\n",
      "[CV] END ..learning_rate=0.17, max_depth=3, n_estimators=100; total time=   4.7s\n",
      "[CV] END ..learning_rate=0.17, max_depth=3, n_estimators=100; total time=   6.1s\n",
      "[CV] END ...learning_rate=0.08, max_depth=5, n_estimators=90; total time=  12.0s\n",
      "[CV] END ...learning_rate=0.08, max_depth=5, n_estimators=90; total time=   6.8s\n",
      "[CV] END ...learning_rate=0.08, max_depth=5, n_estimators=90; total time=   4.7s\n",
      "[CV] END learning_rate=0.15000000000000002, max_depth=6, n_estimators=50; total time=   3.7s\n",
      "[CV] END learning_rate=0.15000000000000002, max_depth=6, n_estimators=50; total time=   3.5s\n",
      "[CV] END learning_rate=0.15000000000000002, max_depth=6, n_estimators=50; total time=   3.1s\n",
      "[CV] END ...learning_rate=0.12, max_depth=7, n_estimators=50; total time=   3.7s\n",
      "[CV] END ...learning_rate=0.12, max_depth=7, n_estimators=50; total time=   3.9s\n",
      "[CV] END ...learning_rate=0.12, max_depth=7, n_estimators=50; total time=   4.4s\n",
      "[CV] END learning_rate=0.09999999999999999, max_depth=3, n_estimators=150; total time=   5.2s\n",
      "[CV] END learning_rate=0.09999999999999999, max_depth=3, n_estimators=150; total time=   9.6s\n",
      "[CV] END learning_rate=0.09999999999999999, max_depth=3, n_estimators=150; total time=   9.5s\n",
      "[CV] END ..learning_rate=0.12, max_depth=4, n_estimators=190; total time=  12.4s\n",
      "[CV] END ..learning_rate=0.12, max_depth=4, n_estimators=190; total time=  11.6s\n",
      "[CV] END ..learning_rate=0.12, max_depth=4, n_estimators=190; total time=  11.5s\n",
      "[CV] END ..learning_rate=0.05, max_depth=5, n_estimators=140; total time=  12.5s\n",
      "[CV] END ..learning_rate=0.05, max_depth=5, n_estimators=140; total time=  15.2s\n",
      "[CV] END ..learning_rate=0.05, max_depth=5, n_estimators=140; total time=   8.5s\n",
      "[CV] END ..learning_rate=0.01, max_depth=4, n_estimators=110; total time=   4.5s\n",
      "[CV] END ..learning_rate=0.01, max_depth=4, n_estimators=110; total time=   4.6s\n",
      "[CV] END ..learning_rate=0.01, max_depth=4, n_estimators=110; total time=   5.4s\n",
      "[CV] END ..learning_rate=0.08, max_depth=3, n_estimators=170; total time=   5.7s\n",
      "[CV] END ..learning_rate=0.08, max_depth=3, n_estimators=170; total time=   5.8s\n",
      "[CV] END ..learning_rate=0.08, max_depth=3, n_estimators=170; total time=  10.7s\n",
      "[CV] END ..learning_rate=0.05, max_depth=6, n_estimators=140; total time=  16.7s\n",
      "[CV] END ..learning_rate=0.05, max_depth=6, n_estimators=140; total time=  11.9s\n",
      "[CV] END ..learning_rate=0.05, max_depth=6, n_estimators=140; total time=  12.2s\n"
     ]
    },
    {
     "data": {
      "text/plain": [
       "RandomizedSearchCV(cv=3, estimator=GradientBoostingClassifier(), n_iter=20,\n",
       "                   param_distributions={'learning_rate': array([0.01, 0.02, 0.03, 0.04, 0.05, 0.06, 0.07, 0.08, 0.09, 0.1 , 0.11,\n",
       "       0.12, 0.13, 0.14, 0.15, 0.16, 0.17, 0.18, 0.19, 0.2 ]),\n",
       "                                        'max_depth': array([3, 4, 5, 6, 7, 8, 9]),\n",
       "                                        'n_estimators': array([ 50,  60,  70,  80,  90, 100, 110, 120, 130, 140, 150, 160, 170,\n",
       "       180, 190])},\n",
       "                   random_state=42, verbose=2)"
      ]
     },
     "execution_count": 125,
     "metadata": {},
     "output_type": "execute_result"
    }
   ],
   "source": [
    "# Fit the random search to the training data\n",
    "random_search.fit(X_train, y_train)"
   ]
  },
  {
   "cell_type": "code",
   "execution_count": 126,
   "id": "b41e9a5f",
   "metadata": {},
   "outputs": [
    {
     "name": "stdout",
     "output_type": "stream",
     "text": [
      "Best Hyperparameters from Random Search: {'n_estimators': 50, 'max_depth': 6, 'learning_rate': 0.11}\n"
     ]
    }
   ],
   "source": [
    "# Get the best hyperparameters from the random search\n",
    "best_params_random = random_search.best_params_\n",
    "print(f\"Best Hyperparameters from Random Search: {best_params_random}\")"
   ]
  },
  {
   "cell_type": "code",
   "execution_count": 127,
   "id": "4620574d",
   "metadata": {},
   "outputs": [
    {
     "data": {
      "text/plain": [
       "GradientBoostingClassifier(learning_rate=0.11, max_depth=6, n_estimators=50)"
      ]
     },
     "execution_count": 127,
     "metadata": {},
     "output_type": "execute_result"
    }
   ],
   "source": [
    "# Fit the model with the best hyperparameters to the training data\n",
    "best_gbm_random = random_search.best_estimator_\n",
    "best_gbm_random.fit(X_train, y_train)"
   ]
  },
  {
   "cell_type": "code",
   "execution_count": 128,
   "id": "84993484",
   "metadata": {},
   "outputs": [],
   "source": [
    "# Make predictions on the test data using the best model\n",
    "y_pred_random = best_gbm_random.predict(X_test)"
   ]
  },
  {
   "cell_type": "code",
   "execution_count": 129,
   "id": "acd65f1e",
   "metadata": {},
   "outputs": [
    {
     "name": "stdout",
     "output_type": "stream",
     "text": [
      "Accuracy after Random Search: 0.9041873669268985\n"
     ]
    }
   ],
   "source": [
    "# Calculate and print the accuracy of the tuned model\n",
    "accuracy_random = accuracy_score(y_test, y_pred_random)\n",
    "print(f\"Accuracy after Random Search: {accuracy_random}\")"
   ]
  },
  {
   "cell_type": "code",
   "execution_count": null,
   "id": "7afc4c1a",
   "metadata": {},
   "outputs": [],
   "source": []
  },
  {
   "cell_type": "markdown",
   "id": "b3e2a1eb",
   "metadata": {},
   "source": [
    "# COMPARATIVE ANALYSIS"
   ]
  },
  {
   "cell_type": "code",
   "execution_count": null,
   "id": "3ae843da",
   "metadata": {},
   "outputs": [],
   "source": []
  },
  {
   "cell_type": "code",
   "execution_count": 130,
   "id": "e73f3b66",
   "metadata": {},
   "outputs": [],
   "source": [
    "# Evaluate the model with Grid Search hyperparameters\n",
    "grid_search_model = grid_search.best_estimator_\n",
    "y_pred_grid = grid_search_model.predict(X_test)\n",
    "accuracy_grid = accuracy_score(y_test, y_pred_grid)"
   ]
  },
  {
   "cell_type": "code",
   "execution_count": 131,
   "id": "a75d028c",
   "metadata": {},
   "outputs": [],
   "source": [
    "# Evaluate the model with Random Search hyperparameters\n",
    "random_search_model = random_search.best_estimator_\n",
    "y_pred_random = random_search_model.predict(X_test)\n",
    "accuracy_random = accuracy_score(y_test, y_pred_random)"
   ]
  },
  {
   "cell_type": "code",
   "execution_count": 132,
   "id": "084dd45e",
   "metadata": {},
   "outputs": [
    {
     "name": "stdout",
     "output_type": "stream",
     "text": [
      "Accuracy with Grid Search hyperparameters: 0.90\n",
      "Accuracy with Random Search hyperparameters: 0.90\n"
     ]
    }
   ],
   "source": [
    "print(f\"Accuracy with Grid Search hyperparameters: {accuracy_grid:.2f}\")\n",
    "print(f\"Accuracy with Random Search hyperparameters: {accuracy_random:.2f}\")"
   ]
  },
  {
   "cell_type": "code",
   "execution_count": 133,
   "id": "0cd9c8a8",
   "metadata": {},
   "outputs": [],
   "source": [
    "# Calculate computation time for each search method\n",
    "grid_search_time = grid_search.cv_results_['mean_fit_time'].sum()\n",
    "random_search_time = random_search.cv_results_['mean_fit_time'].sum()"
   ]
  },
  {
   "cell_type": "code",
   "execution_count": 134,
   "id": "04f1fc11",
   "metadata": {},
   "outputs": [
    {
     "name": "stdout",
     "output_type": "stream",
     "text": [
      "Total computation time for Grid Search: 32.42 seconds\n",
      "Total computation time for Random Search: 158.84 seconds\n"
     ]
    }
   ],
   "source": [
    "print(f\"Total computation time for Grid Search: {grid_search_time:.2f} seconds\")\n",
    "print(f\"Total computation time for Random Search: {random_search_time:.2f} seconds\")"
   ]
  },
  {
   "cell_type": "code",
   "execution_count": null,
   "id": "882a0efa",
   "metadata": {},
   "outputs": [],
   "source": []
  }
 ],
 "metadata": {
  "kernelspec": {
   "display_name": "Python 3 (ipykernel)",
   "language": "python",
   "name": "python3"
  },
  "language_info": {
   "codemirror_mode": {
    "name": "ipython",
    "version": 3
   },
   "file_extension": ".py",
   "mimetype": "text/x-python",
   "name": "python",
   "nbconvert_exporter": "python",
   "pygments_lexer": "ipython3",
   "version": "3.9.12"
  }
 },
 "nbformat": 4,
 "nbformat_minor": 5
}
